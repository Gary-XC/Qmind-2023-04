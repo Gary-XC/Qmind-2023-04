{
 "nbformat": 4,
 "nbformat_minor": 0,
 "metadata": {
  "colab": {
   "provenance": []
  },
  "kernelspec": {
   "name": "python3",
   "language": "python",
   "display_name": "Python 3 (ipykernel)"
  },
  "language_info": {
   "name": "python"
  }
 },
 "cells": [
  {
   "cell_type": "code",
   "execution_count": 1,
   "metadata": {
    "colab": {
     "base_uri": "https://localhost:8080/"
    },
    "id": "G80pR3_l_Ad6",
    "outputId": "cf5e6493-73c6-4e25-e4a0-137c1486d9ee",
    "ExecuteTime": {
     "end_time": "2023-11-24T17:40:31.856676400Z",
     "start_time": "2023-11-24T17:40:27.523677300Z"
    }
   },
   "outputs": [
    {
     "name": "stdout",
     "output_type": "stream",
     "text": [
      "Requirement already satisfied: stable-baselines3[extra]>=2.0.0a4 in c:\\users\\xi chen\\anaconda3\\lib\\site-packages (2.2.1)\n",
      "Requirement already satisfied: gymnasium<0.30,>=0.28.1 in c:\\users\\xi chen\\anaconda3\\lib\\site-packages (from stable-baselines3[extra]>=2.0.0a4) (0.28.1)\n",
      "Requirement already satisfied: numpy>=1.20 in c:\\users\\xi chen\\anaconda3\\lib\\site-packages (from stable-baselines3[extra]>=2.0.0a4) (1.24.3)\n",
      "Requirement already satisfied: torch>=1.13 in c:\\users\\xi chen\\anaconda3\\lib\\site-packages (from stable-baselines3[extra]>=2.0.0a4) (2.1.1)\n",
      "Requirement already satisfied: cloudpickle in c:\\users\\xi chen\\anaconda3\\lib\\site-packages (from stable-baselines3[extra]>=2.0.0a4) (2.2.1)\n",
      "Requirement already satisfied: pandas in c:\\users\\xi chen\\anaconda3\\lib\\site-packages (from stable-baselines3[extra]>=2.0.0a4) (1.5.3)\n",
      "Requirement already satisfied: matplotlib in c:\\users\\xi chen\\anaconda3\\lib\\site-packages (from stable-baselines3[extra]>=2.0.0a4) (3.7.1)\n",
      "Requirement already satisfied: opencv-python in c:\\users\\xi chen\\anaconda3\\lib\\site-packages (from stable-baselines3[extra]>=2.0.0a4) (4.8.1.78)\n",
      "Requirement already satisfied: pygame in c:\\users\\xi chen\\anaconda3\\lib\\site-packages (from stable-baselines3[extra]>=2.0.0a4) (2.5.2)\n",
      "Requirement already satisfied: tensorboard>=2.9.1 in c:\\users\\xi chen\\anaconda3\\lib\\site-packages (from stable-baselines3[extra]>=2.0.0a4) (2.13.0)\n",
      "Requirement already satisfied: psutil in c:\\users\\xi chen\\anaconda3\\lib\\site-packages (from stable-baselines3[extra]>=2.0.0a4) (5.9.0)\n",
      "Requirement already satisfied: tqdm in c:\\users\\xi chen\\anaconda3\\lib\\site-packages (from stable-baselines3[extra]>=2.0.0a4) (4.65.0)\n",
      "Requirement already satisfied: rich in c:\\users\\xi chen\\anaconda3\\lib\\site-packages (from stable-baselines3[extra]>=2.0.0a4) (13.7.0)\n",
      "Requirement already satisfied: shimmy[atari]~=1.3.0 in c:\\users\\xi chen\\anaconda3\\lib\\site-packages (from stable-baselines3[extra]>=2.0.0a4) (1.3.0)\n",
      "Requirement already satisfied: pillow in c:\\users\\xi chen\\anaconda3\\lib\\site-packages (from stable-baselines3[extra]>=2.0.0a4) (9.4.0)\n",
      "Requirement already satisfied: autorom[accept-rom-license]~=0.6.1 in c:\\users\\xi chen\\anaconda3\\lib\\site-packages (from stable-baselines3[extra]>=2.0.0a4) (0.6.1)\n",
      "Requirement already satisfied: click in c:\\users\\xi chen\\anaconda3\\lib\\site-packages (from autorom[accept-rom-license]~=0.6.1->stable-baselines3[extra]>=2.0.0a4) (8.0.4)\n",
      "Requirement already satisfied: requests in c:\\users\\xi chen\\anaconda3\\lib\\site-packages (from autorom[accept-rom-license]~=0.6.1->stable-baselines3[extra]>=2.0.0a4) (2.31.0)\n",
      "Requirement already satisfied: AutoROM.accept-rom-license in c:\\users\\xi chen\\anaconda3\\lib\\site-packages (from autorom[accept-rom-license]~=0.6.1->stable-baselines3[extra]>=2.0.0a4) (0.6.1)\n",
      "Requirement already satisfied: jax-jumpy>=1.0.0 in c:\\users\\xi chen\\anaconda3\\lib\\site-packages (from gymnasium<0.30,>=0.28.1->stable-baselines3[extra]>=2.0.0a4) (1.0.0)\n",
      "Requirement already satisfied: typing-extensions>=4.3.0 in c:\\users\\xi chen\\anaconda3\\lib\\site-packages (from gymnasium<0.30,>=0.28.1->stable-baselines3[extra]>=2.0.0a4) (4.5.0)\n",
      "Requirement already satisfied: farama-notifications>=0.0.1 in c:\\users\\xi chen\\anaconda3\\lib\\site-packages (from gymnasium<0.30,>=0.28.1->stable-baselines3[extra]>=2.0.0a4) (0.0.4)\n",
      "Requirement already satisfied: ale-py~=0.8.1 in c:\\users\\xi chen\\anaconda3\\lib\\site-packages (from shimmy[atari]~=1.3.0->stable-baselines3[extra]>=2.0.0a4) (0.8.1)\n",
      "Requirement already satisfied: absl-py>=0.4 in c:\\users\\xi chen\\anaconda3\\lib\\site-packages (from tensorboard>=2.9.1->stable-baselines3[extra]>=2.0.0a4) (1.4.0)\n",
      "Requirement already satisfied: grpcio>=1.48.2 in c:\\users\\xi chen\\anaconda3\\lib\\site-packages (from tensorboard>=2.9.1->stable-baselines3[extra]>=2.0.0a4) (1.57.0)\n",
      "Requirement already satisfied: google-auth<3,>=1.6.3 in c:\\users\\xi chen\\anaconda3\\lib\\site-packages (from tensorboard>=2.9.1->stable-baselines3[extra]>=2.0.0a4) (2.22.0)\n",
      "Requirement already satisfied: google-auth-oauthlib<1.1,>=0.5 in c:\\users\\xi chen\\anaconda3\\lib\\site-packages (from tensorboard>=2.9.1->stable-baselines3[extra]>=2.0.0a4) (1.0.0)\n",
      "Requirement already satisfied: markdown>=2.6.8 in c:\\users\\xi chen\\anaconda3\\lib\\site-packages (from tensorboard>=2.9.1->stable-baselines3[extra]>=2.0.0a4) (3.4.1)\n",
      "Requirement already satisfied: protobuf>=3.19.6 in c:\\users\\xi chen\\anaconda3\\lib\\site-packages (from tensorboard>=2.9.1->stable-baselines3[extra]>=2.0.0a4) (4.24.2)\n",
      "Requirement already satisfied: setuptools>=41.0.0 in c:\\users\\xi chen\\anaconda3\\lib\\site-packages (from tensorboard>=2.9.1->stable-baselines3[extra]>=2.0.0a4) (68.0.0)\n",
      "Requirement already satisfied: tensorboard-data-server<0.8.0,>=0.7.0 in c:\\users\\xi chen\\anaconda3\\lib\\site-packages (from tensorboard>=2.9.1->stable-baselines3[extra]>=2.0.0a4) (0.7.1)\n",
      "Requirement already satisfied: werkzeug>=1.0.1 in c:\\users\\xi chen\\anaconda3\\lib\\site-packages (from tensorboard>=2.9.1->stable-baselines3[extra]>=2.0.0a4) (2.2.3)\n",
      "Requirement already satisfied: wheel>=0.26 in c:\\users\\xi chen\\anaconda3\\lib\\site-packages (from tensorboard>=2.9.1->stable-baselines3[extra]>=2.0.0a4) (0.38.4)\n",
      "Requirement already satisfied: filelock in c:\\users\\xi chen\\anaconda3\\lib\\site-packages (from torch>=1.13->stable-baselines3[extra]>=2.0.0a4) (3.9.0)\n",
      "Requirement already satisfied: sympy in c:\\users\\xi chen\\anaconda3\\lib\\site-packages (from torch>=1.13->stable-baselines3[extra]>=2.0.0a4) (1.11.1)\n",
      "Requirement already satisfied: networkx in c:\\users\\xi chen\\anaconda3\\lib\\site-packages (from torch>=1.13->stable-baselines3[extra]>=2.0.0a4) (3.1)\n",
      "Requirement already satisfied: jinja2 in c:\\users\\xi chen\\anaconda3\\lib\\site-packages (from torch>=1.13->stable-baselines3[extra]>=2.0.0a4) (3.1.2)\n",
      "Requirement already satisfied: fsspec in c:\\users\\xi chen\\anaconda3\\lib\\site-packages (from torch>=1.13->stable-baselines3[extra]>=2.0.0a4) (2023.3.0)\n",
      "Requirement already satisfied: contourpy>=1.0.1 in c:\\users\\xi chen\\anaconda3\\lib\\site-packages (from matplotlib->stable-baselines3[extra]>=2.0.0a4) (1.0.5)\n",
      "Requirement already satisfied: cycler>=0.10 in c:\\users\\xi chen\\anaconda3\\lib\\site-packages (from matplotlib->stable-baselines3[extra]>=2.0.0a4) (0.11.0)\n",
      "Requirement already satisfied: fonttools>=4.22.0 in c:\\users\\xi chen\\anaconda3\\lib\\site-packages (from matplotlib->stable-baselines3[extra]>=2.0.0a4) (4.25.0)\n",
      "Requirement already satisfied: kiwisolver>=1.0.1 in c:\\users\\xi chen\\anaconda3\\lib\\site-packages (from matplotlib->stable-baselines3[extra]>=2.0.0a4) (1.4.4)\n",
      "Requirement already satisfied: packaging>=20.0 in c:\\users\\xi chen\\anaconda3\\lib\\site-packages (from matplotlib->stable-baselines3[extra]>=2.0.0a4) (23.0)\n",
      "Requirement already satisfied: pyparsing>=2.3.1 in c:\\users\\xi chen\\anaconda3\\lib\\site-packages (from matplotlib->stable-baselines3[extra]>=2.0.0a4) (3.0.9)\n",
      "Requirement already satisfied: python-dateutil>=2.7 in c:\\users\\xi chen\\anaconda3\\lib\\site-packages (from matplotlib->stable-baselines3[extra]>=2.0.0a4) (2.8.2)\n",
      "Requirement already satisfied: pytz>=2020.1 in c:\\users\\xi chen\\anaconda3\\lib\\site-packages (from pandas->stable-baselines3[extra]>=2.0.0a4) (2022.7)\n",
      "Requirement already satisfied: markdown-it-py>=2.2.0 in c:\\users\\xi chen\\anaconda3\\lib\\site-packages (from rich->stable-baselines3[extra]>=2.0.0a4) (2.2.0)\n",
      "Requirement already satisfied: pygments<3.0.0,>=2.13.0 in c:\\users\\xi chen\\anaconda3\\lib\\site-packages (from rich->stable-baselines3[extra]>=2.0.0a4) (2.15.1)\n",
      "Requirement already satisfied: colorama in c:\\users\\xi chen\\anaconda3\\lib\\site-packages (from tqdm->stable-baselines3[extra]>=2.0.0a4) (0.4.6)\n",
      "Requirement already satisfied: importlib-resources in c:\\users\\xi chen\\anaconda3\\lib\\site-packages (from ale-py~=0.8.1->shimmy[atari]~=1.3.0->stable-baselines3[extra]>=2.0.0a4) (6.1.1)\n",
      "Requirement already satisfied: cachetools<6.0,>=2.0.0 in c:\\users\\xi chen\\anaconda3\\lib\\site-packages (from google-auth<3,>=1.6.3->tensorboard>=2.9.1->stable-baselines3[extra]>=2.0.0a4) (5.3.1)\n",
      "Requirement already satisfied: pyasn1-modules>=0.2.1 in c:\\users\\xi chen\\anaconda3\\lib\\site-packages (from google-auth<3,>=1.6.3->tensorboard>=2.9.1->stable-baselines3[extra]>=2.0.0a4) (0.2.8)\n",
      "Requirement already satisfied: rsa<5,>=3.1.4 in c:\\users\\xi chen\\anaconda3\\lib\\site-packages (from google-auth<3,>=1.6.3->tensorboard>=2.9.1->stable-baselines3[extra]>=2.0.0a4) (4.9)\n",
      "Requirement already satisfied: six>=1.9.0 in c:\\users\\xi chen\\anaconda3\\lib\\site-packages (from google-auth<3,>=1.6.3->tensorboard>=2.9.1->stable-baselines3[extra]>=2.0.0a4) (1.16.0)\n",
      "Requirement already satisfied: urllib3<2.0 in c:\\users\\xi chen\\anaconda3\\lib\\site-packages (from google-auth<3,>=1.6.3->tensorboard>=2.9.1->stable-baselines3[extra]>=2.0.0a4) (1.26.16)\n",
      "Requirement already satisfied: requests-oauthlib>=0.7.0 in c:\\users\\xi chen\\anaconda3\\lib\\site-packages (from google-auth-oauthlib<1.1,>=0.5->tensorboard>=2.9.1->stable-baselines3[extra]>=2.0.0a4) (1.3.1)\n",
      "Requirement already satisfied: mdurl~=0.1 in c:\\users\\xi chen\\anaconda3\\lib\\site-packages (from markdown-it-py>=2.2.0->rich->stable-baselines3[extra]>=2.0.0a4) (0.1.0)\n",
      "Requirement already satisfied: charset-normalizer<4,>=2 in c:\\users\\xi chen\\anaconda3\\lib\\site-packages (from requests->autorom[accept-rom-license]~=0.6.1->stable-baselines3[extra]>=2.0.0a4) (2.0.4)\n",
      "Requirement already satisfied: idna<4,>=2.5 in c:\\users\\xi chen\\anaconda3\\lib\\site-packages (from requests->autorom[accept-rom-license]~=0.6.1->stable-baselines3[extra]>=2.0.0a4) (3.4)\n",
      "Requirement already satisfied: certifi>=2017.4.17 in c:\\users\\xi chen\\anaconda3\\lib\\site-packages (from requests->autorom[accept-rom-license]~=0.6.1->stable-baselines3[extra]>=2.0.0a4) (2023.7.22)\n",
      "Requirement already satisfied: MarkupSafe>=2.1.1 in c:\\users\\xi chen\\anaconda3\\lib\\site-packages (from werkzeug>=1.0.1->tensorboard>=2.9.1->stable-baselines3[extra]>=2.0.0a4) (2.1.1)\n",
      "Requirement already satisfied: mpmath>=0.19 in c:\\users\\xi chen\\anaconda3\\lib\\site-packages (from sympy->torch>=1.13->stable-baselines3[extra]>=2.0.0a4) (1.3.0)\n",
      "Requirement already satisfied: pyasn1<0.5.0,>=0.4.6 in c:\\users\\xi chen\\anaconda3\\lib\\site-packages (from pyasn1-modules>=0.2.1->google-auth<3,>=1.6.3->tensorboard>=2.9.1->stable-baselines3[extra]>=2.0.0a4) (0.4.8)\n",
      "Requirement already satisfied: oauthlib>=3.0.0 in c:\\users\\xi chen\\anaconda3\\lib\\site-packages (from requests-oauthlib>=0.7.0->google-auth-oauthlib<1.1,>=0.5->tensorboard>=2.9.1->stable-baselines3[extra]>=2.0.0a4) (3.2.2)\n"
     ]
    }
   ],
   "source": [
    "!pip install \"stable-baselines3[extra]>=2.0.0a4\""
   ]
  },
  {
   "cell_type": "code",
   "source": [
    "class Point:\n",
    "    def __init__(self, x, y):\n",
    "        self.x = x\n",
    "        self.y = y\n",
    " \n",
    "class line:\n",
    "    def __init__(self, p1, p2):\n",
    "        self.p1 = p1\n",
    "        self.p2 = p2\n",
    " \n",
    "def onLine(l1, p):\n",
    "    # Check whether p is on the line or not\n",
    "    if (\n",
    "        p.x <= max(l1.p1.x, l1.p2.x)\n",
    "        and p.x >= min(l1.p1.x, l1.p2.x)\n",
    "        and (p.y <= max(l1.p1.y, l1.p2.y) and p.y >= min(l1.p1.y, l1.p2.y))\n",
    "    ):\n",
    "        return True\n",
    "    return False\n",
    " \n",
    "def direction(a, b, c):\n",
    "    val = (b.y - a.y) * (c.x - b.x) - (b.x - a.x) * (c.y - b.y)\n",
    "    if val == 0:\n",
    "        # Collinear\n",
    "        return 0\n",
    "    elif val < 0:\n",
    "        # Anti-clockwise direction\n",
    "        return 2\n",
    "    # Clockwise direction\n",
    "    return 1\n",
    " \n",
    "def isIntersect(l1, l2):\n",
    "    # Four direction for two lines and points of other line\n",
    "    dir1 = direction(l1.p1, l1.p2, l2.p1)\n",
    "    dir2 = direction(l1.p1, l1.p2, l2.p2)\n",
    "    dir3 = direction(l2.p1, l2.p2, l1.p1)\n",
    "    dir4 = direction(l2.p1, l2.p2, l1.p2)\n",
    " \n",
    "    # When intersecting\n",
    "    if dir1 != dir2 and dir3 != dir4:\n",
    "        return True\n",
    " \n",
    "    # When p2 of line2 are on the line1\n",
    "    if dir1 == 0 and onLine(l1, l2.p1):\n",
    "        return True\n",
    " \n",
    "    # When p1 of line2 are on the line1\n",
    "    if dir2 == 0 and onLine(l1, l2.p2):\n",
    "        return True\n",
    " \n",
    "    # When p2 of line1 are on the line2\n",
    "    if dir3 == 0 and onLine(l2, l1.p1):\n",
    "        return True\n",
    " \n",
    "    # When p1 of line1 are on the line2\n",
    "    if dir4 == 0 and onLine(l2, l1.p2):\n",
    "        return True\n",
    " \n",
    "    return False\n",
    " \n",
    "def checkInside(poly, n, p):\n",
    "    # When polygon has less than 3 edge, it is not polygon\n",
    "    if n < 3:\n",
    "        return False\n",
    " \n",
    "    # Create a point at infinity, y is same as point p\n",
    "    exline = line(p, Point(9999, p.y))\n",
    "    count = 0\n",
    "    i = 0\n",
    "    while True:\n",
    "        # Forming a line from two consecutive points of poly\n",
    "        side = line(poly[i], poly[(i + 1) % n])\n",
    "        if isIntersect(side, exline):\n",
    "            # If side is intersects ex\n",
    "            if (direction(side.p1, p, side.p2) == 0):\n",
    "                return onLine(side, p);\n",
    "            count += 1\n",
    "         \n",
    "        i = (i + 1) % n;\n",
    "        if i == 0:\n",
    "            break\n",
    " \n",
    "    # When count is odd\n",
    "    return count & 1;"
   ],
   "metadata": {
    "id": "DnV0mEeqjcVi",
    "ExecuteTime": {
     "end_time": "2023-11-24T17:43:04.137841700Z",
     "start_time": "2023-11-24T17:43:04.129828500Z"
    }
   },
   "execution_count": 7,
   "outputs": []
  },
  {
   "cell_type": "code",
   "execution_count": 13,
   "outputs": [],
   "source": [
    "def point_in_polygon(point, polygon):\n",
    "    x, y = point\n",
    "    n = len(polygon)\n",
    "    inside = False\n",
    "\n",
    "    p1x, p1y = polygon[0]\n",
    "    for i in range(n + 1):\n",
    "        p2x, p2y = polygon[i % n]\n",
    "        if y > min(p1y, p2y):\n",
    "            if y <= max(p1y, p2y):\n",
    "                if x <= max(p1x, p2x):\n",
    "                    if p1y != p2y:\n",
    "                        x_inters = (y - p1y) * (p2x - p1x) / (p2y - p1y) + p1x\n",
    "                        if p1x == p2x or x <= x_inters:\n",
    "                            inside = not inside\n",
    "        p1x, p1y = p2x, p2y\n",
    "    return inside"
   ],
   "metadata": {
    "collapsed": false,
    "ExecuteTime": {
     "end_time": "2023-11-24T17:50:02.056567600Z",
     "start_time": "2023-11-24T17:50:02.049868600Z"
    }
   }
  },
  {
   "cell_type": "code",
   "source": [
    "import numpy as np\n",
    "import math\n",
    "import gymnasium as gym\n",
    "from gymnasium import spaces\n",
    "\n",
    "class GolfEnv(gym.Env):\n",
    "  def __init__(self):\n",
    "    #Define the size of the grid\n",
    "    self.grid_width = 200\n",
    "    self.grid_height = 300\n",
    "    self.shot_counter = 0\n",
    "\n",
    "    #Define the action space as a Box space\n",
    "    self.action_space = spaces.Box(\n",
    "        low=np.array([0, 0]),  # Minimum values for direction and club-type\n",
    "        high=np.array([180, 12]),  # Maximum values for direction and club-type\n",
    "        dtype=np.float32\n",
    "    )\n",
    "\n",
    "    #Define the observation space\n",
    "    self.observation_space = spaces.Dict({\n",
    "          'x':spaces.Discrete(self.grid_width),\n",
    "          'y':spaces.Discrete(self.grid_height)\n",
    "      })\n",
    "\n",
    "    #ball position\n",
    "    self.ball_position = {\n",
    "      'x': 50,\n",
    "      'y': 0,\n",
    "    }\n",
    "    #green position\n",
    "    self.green_left_corner = [self.grid_width-20, self.grid_height-20]\n",
    "    self.green_right_corner = [self.grid_width, self.grid_height]\n",
    "\n",
    "    #creating a dictionary to convert club to distance\n",
    "    self.club_distances = {\n",
    "            0: 200,\n",
    "            1: 180,\n",
    "            2: 170,\n",
    "            3: 160,\n",
    "            4: 150,\n",
    "            5: 145,\n",
    "            6: 138,\n",
    "            7: 127,\n",
    "            8: 120,\n",
    "            9: 110,\n",
    "            10: 97,\n",
    "            11: 85,\n",
    "            12: 55,\n",
    "        }\n",
    "\n",
    "\n",
    "  def step(self, action):\n",
    "    # Get the direction and club type from the action\n",
    "    direction = action[0]\n",
    "    club_type = int(action[1])\n",
    "\n",
    "    # Use direction to calculate the new position\n",
    "    angle_rad = math.radians(direction)\n",
    "    delta_x = self.club_distances[club_type] * math.cos(angle_rad)\n",
    "    delta_y = self.club_distances[club_type] * math.sin(angle_rad)\n",
    "\n",
    "    # Calculate new position\n",
    "    new_x = self.ball_position['x'] + delta_x\n",
    "    new_y = self.ball_position['y'] + delta_y\n",
    "\n",
    "    new_x = round(new_x)\n",
    "    new_y = round(new_y)\n",
    "\n",
    "    #sets the reward to 0\n",
    "    reward = 0\n",
    "    terminated=False\n",
    "    truncated=False\n",
    "    #checks if the ball position is in the observation space and if not it sets it to the closest edge\n",
    "    if new_x>self.observation_space['x'].n:\n",
    "      reward = reward-10\n",
    "      new_x=self.observation_space['x'].n\n",
    "    if new_x<0:\n",
    "      reward = reward-10\n",
    "      new_x=0\n",
    "    if new_y>self.observation_space['y'].n:\n",
    "      reward = reward-10\n",
    "      new_y=self.observation_space['y'].n\n",
    "\n",
    "    #sets the ball position to the new position\n",
    "    self.ball_position['x']=new_x\n",
    "    self.ball_position['y']=new_y\n",
    "\n",
    "    #checks if the ball position is on the green\n",
    "    if (self.green_left_corner[0]<=self.ball_position['x']>=self.green_right_corner[0]) and (self.green_left_corner[1]<=self.ball_position['y']>=self.green_right_corner[1]):\n",
    "      reward=10\n",
    "      terminated = True\n",
    "\n",
    "    bunker = [(25, 53), (26, 42), (36, 34), (49, 33), (56, 44), (78, 95), (86, 138), (86, 45), (78, 147), (67, 142), (62, 148), (60, 176), (42, 186), (31, 176), (29, 168), (30, 150), (57, 180), (58, 111), (29, 60)]\n",
    "\n",
    "    ptc = (self.ball_position['x'], self.ball_position['y'])\n",
    "\n",
    "    if point_in_polygon(ptc, bunker):\n",
    "      reward=10\n",
    "\n",
    "    #adds a shot to the shot counter\n",
    "    self.shot_counter+=1\n",
    "\n",
    "    #limit to 10 shots per round\n",
    "    if self.shot_counter>=10:\n",
    "      truncated=True\n",
    "\n",
    "    observation = {\n",
    "        'x': self.ball_position['x'],\n",
    "        'y': self.ball_position['y']\n",
    "    }\n",
    "\n",
    "    return observation, reward, terminated, truncated, {}\n",
    "\n",
    "  def reset(self, seed=None, options=None):\n",
    "    #sets ball position to the middle of the start of the hole\n",
    "    self.ball_position = {\n",
    "        'x': 50,\n",
    "        'y': 0,\n",
    "    }\n",
    "\n",
    "    observation = {\n",
    "        'x': self.ball_position['x'],\n",
    "        'y': self.ball_position['y']\n",
    "    }\n",
    "\n",
    "    return observation, {}"
   ],
   "metadata": {
    "id": "osdrCo0b_S4b",
    "ExecuteTime": {
     "end_time": "2023-11-24T17:50:02.641868700Z",
     "start_time": "2023-11-24T17:50:02.640106200Z"
    }
   },
   "execution_count": 14,
   "outputs": []
  },
  {
   "cell_type": "code",
   "source": [
    "from stable_baselines3.common.env_checker import check_env"
   ],
   "metadata": {
    "id": "1m0feQwOM5Sx",
    "colab": {
     "base_uri": "https://localhost:8080/"
    },
    "outputId": "24b8782a-cdc7-459a-e576-2c1a94a66f24",
    "ExecuteTime": {
     "end_time": "2023-11-24T17:40:57.994334Z",
     "start_time": "2023-11-24T17:40:52.892274Z"
    }
   },
   "execution_count": 4,
   "outputs": [
    {
     "ename": "TypeError",
     "evalue": "Descriptors cannot not be created directly.\nIf this call came from a _pb2.py file, your generated code is out of date and must be regenerated with protoc >= 3.19.0.\nIf you cannot immediately regenerate your protos, some other possible workarounds are:\n 1. Downgrade the protobuf package to 3.20.x or lower.\n 2. Set PROTOCOL_BUFFERS_PYTHON_IMPLEMENTATION=python (but this will use pure-Python parsing and will be much slower).\n\nMore information: https://developers.google.com/protocol-buffers/docs/news/2022-05-06#python-updates",
     "output_type": "error",
     "traceback": [
      "\u001B[1;31m---------------------------------------------------------------------------\u001B[0m",
      "\u001B[1;31mImportError\u001B[0m                               Traceback (most recent call last)",
      "File \u001B[1;32m~\\anaconda3\\Lib\\site-packages\\tensorboard\\compat\\__init__.py:42\u001B[0m, in \u001B[0;36mtf\u001B[1;34m()\u001B[0m\n\u001B[0;32m     41\u001B[0m \u001B[38;5;28;01mtry\u001B[39;00m:\n\u001B[1;32m---> 42\u001B[0m     \u001B[38;5;28;01mfrom\u001B[39;00m \u001B[38;5;21;01mtensorboard\u001B[39;00m\u001B[38;5;21;01m.\u001B[39;00m\u001B[38;5;21;01mcompat\u001B[39;00m \u001B[38;5;28;01mimport\u001B[39;00m notf  \u001B[38;5;66;03m# noqa: F401\u001B[39;00m\n\u001B[0;32m     43\u001B[0m \u001B[38;5;28;01mexcept\u001B[39;00m \u001B[38;5;167;01mImportError\u001B[39;00m:\n",
      "\u001B[1;31mImportError\u001B[0m: cannot import name 'notf' from 'tensorboard.compat' (C:\\Users\\Xi Chen\\anaconda3\\Lib\\site-packages\\tensorboard\\compat\\__init__.py)",
      "\nDuring handling of the above exception, another exception occurred:\n",
      "\u001B[1;31mTypeError\u001B[0m                                 Traceback (most recent call last)",
      "Cell \u001B[1;32mIn[4], line 1\u001B[0m\n\u001B[1;32m----> 1\u001B[0m \u001B[38;5;28;01mfrom\u001B[39;00m \u001B[38;5;21;01mstable_baselines3\u001B[39;00m\u001B[38;5;21;01m.\u001B[39;00m\u001B[38;5;21;01mcommon\u001B[39;00m\u001B[38;5;21;01m.\u001B[39;00m\u001B[38;5;21;01menv_checker\u001B[39;00m \u001B[38;5;28;01mimport\u001B[39;00m check_env\n",
      "File \u001B[1;32m~\\anaconda3\\Lib\\site-packages\\stable_baselines3\\__init__.py:3\u001B[0m\n\u001B[0;32m      1\u001B[0m \u001B[38;5;28;01mimport\u001B[39;00m \u001B[38;5;21;01mos\u001B[39;00m\n\u001B[1;32m----> 3\u001B[0m \u001B[38;5;28;01mfrom\u001B[39;00m \u001B[38;5;21;01mstable_baselines3\u001B[39;00m\u001B[38;5;21;01m.\u001B[39;00m\u001B[38;5;21;01ma2c\u001B[39;00m \u001B[38;5;28;01mimport\u001B[39;00m A2C\n\u001B[0;32m      4\u001B[0m \u001B[38;5;28;01mfrom\u001B[39;00m \u001B[38;5;21;01mstable_baselines3\u001B[39;00m\u001B[38;5;21;01m.\u001B[39;00m\u001B[38;5;21;01mcommon\u001B[39;00m\u001B[38;5;21;01m.\u001B[39;00m\u001B[38;5;21;01mutils\u001B[39;00m \u001B[38;5;28;01mimport\u001B[39;00m get_system_info\n\u001B[0;32m      5\u001B[0m \u001B[38;5;28;01mfrom\u001B[39;00m \u001B[38;5;21;01mstable_baselines3\u001B[39;00m\u001B[38;5;21;01m.\u001B[39;00m\u001B[38;5;21;01mddpg\u001B[39;00m \u001B[38;5;28;01mimport\u001B[39;00m DDPG\n",
      "File \u001B[1;32m~\\anaconda3\\Lib\\site-packages\\stable_baselines3\\a2c\\__init__.py:1\u001B[0m\n\u001B[1;32m----> 1\u001B[0m \u001B[38;5;28;01mfrom\u001B[39;00m \u001B[38;5;21;01mstable_baselines3\u001B[39;00m\u001B[38;5;21;01m.\u001B[39;00m\u001B[38;5;21;01ma2c\u001B[39;00m\u001B[38;5;21;01m.\u001B[39;00m\u001B[38;5;21;01ma2c\u001B[39;00m \u001B[38;5;28;01mimport\u001B[39;00m A2C\n\u001B[0;32m      2\u001B[0m \u001B[38;5;28;01mfrom\u001B[39;00m \u001B[38;5;21;01mstable_baselines3\u001B[39;00m\u001B[38;5;21;01m.\u001B[39;00m\u001B[38;5;21;01ma2c\u001B[39;00m\u001B[38;5;21;01m.\u001B[39;00m\u001B[38;5;21;01mpolicies\u001B[39;00m \u001B[38;5;28;01mimport\u001B[39;00m CnnPolicy, MlpPolicy, MultiInputPolicy\n\u001B[0;32m      4\u001B[0m __all__ \u001B[38;5;241m=\u001B[39m [\u001B[38;5;124m\"\u001B[39m\u001B[38;5;124mCnnPolicy\u001B[39m\u001B[38;5;124m\"\u001B[39m, \u001B[38;5;124m\"\u001B[39m\u001B[38;5;124mMlpPolicy\u001B[39m\u001B[38;5;124m\"\u001B[39m, \u001B[38;5;124m\"\u001B[39m\u001B[38;5;124mMultiInputPolicy\u001B[39m\u001B[38;5;124m\"\u001B[39m, \u001B[38;5;124m\"\u001B[39m\u001B[38;5;124mA2C\u001B[39m\u001B[38;5;124m\"\u001B[39m]\n",
      "File \u001B[1;32m~\\anaconda3\\Lib\\site-packages\\stable_baselines3\\a2c\\a2c.py:7\u001B[0m\n\u001B[0;32m      4\u001B[0m \u001B[38;5;28;01mfrom\u001B[39;00m \u001B[38;5;21;01mgymnasium\u001B[39;00m \u001B[38;5;28;01mimport\u001B[39;00m spaces\n\u001B[0;32m      5\u001B[0m \u001B[38;5;28;01mfrom\u001B[39;00m \u001B[38;5;21;01mtorch\u001B[39;00m\u001B[38;5;21;01m.\u001B[39;00m\u001B[38;5;21;01mnn\u001B[39;00m \u001B[38;5;28;01mimport\u001B[39;00m functional \u001B[38;5;28;01mas\u001B[39;00m F\n\u001B[1;32m----> 7\u001B[0m \u001B[38;5;28;01mfrom\u001B[39;00m \u001B[38;5;21;01mstable_baselines3\u001B[39;00m\u001B[38;5;21;01m.\u001B[39;00m\u001B[38;5;21;01mcommon\u001B[39;00m\u001B[38;5;21;01m.\u001B[39;00m\u001B[38;5;21;01mbuffers\u001B[39;00m \u001B[38;5;28;01mimport\u001B[39;00m RolloutBuffer\n\u001B[0;32m      8\u001B[0m \u001B[38;5;28;01mfrom\u001B[39;00m \u001B[38;5;21;01mstable_baselines3\u001B[39;00m\u001B[38;5;21;01m.\u001B[39;00m\u001B[38;5;21;01mcommon\u001B[39;00m\u001B[38;5;21;01m.\u001B[39;00m\u001B[38;5;21;01mon_policy_algorithm\u001B[39;00m \u001B[38;5;28;01mimport\u001B[39;00m OnPolicyAlgorithm\n\u001B[0;32m      9\u001B[0m \u001B[38;5;28;01mfrom\u001B[39;00m \u001B[38;5;21;01mstable_baselines3\u001B[39;00m\u001B[38;5;21;01m.\u001B[39;00m\u001B[38;5;21;01mcommon\u001B[39;00m\u001B[38;5;21;01m.\u001B[39;00m\u001B[38;5;21;01mpolicies\u001B[39;00m \u001B[38;5;28;01mimport\u001B[39;00m ActorCriticCnnPolicy, ActorCriticPolicy, BasePolicy, MultiInputActorCriticPolicy\n",
      "File \u001B[1;32m~\\anaconda3\\Lib\\site-packages\\stable_baselines3\\common\\buffers.py:16\u001B[0m\n\u001B[0;32m      9\u001B[0m \u001B[38;5;28;01mfrom\u001B[39;00m \u001B[38;5;21;01mstable_baselines3\u001B[39;00m\u001B[38;5;21;01m.\u001B[39;00m\u001B[38;5;21;01mcommon\u001B[39;00m\u001B[38;5;21;01m.\u001B[39;00m\u001B[38;5;21;01mpreprocessing\u001B[39;00m \u001B[38;5;28;01mimport\u001B[39;00m get_action_dim, get_obs_shape\n\u001B[0;32m     10\u001B[0m \u001B[38;5;28;01mfrom\u001B[39;00m \u001B[38;5;21;01mstable_baselines3\u001B[39;00m\u001B[38;5;21;01m.\u001B[39;00m\u001B[38;5;21;01mcommon\u001B[39;00m\u001B[38;5;21;01m.\u001B[39;00m\u001B[38;5;21;01mtype_aliases\u001B[39;00m \u001B[38;5;28;01mimport\u001B[39;00m (\n\u001B[0;32m     11\u001B[0m     DictReplayBufferSamples,\n\u001B[0;32m     12\u001B[0m     DictRolloutBufferSamples,\n\u001B[0;32m     13\u001B[0m     ReplayBufferSamples,\n\u001B[0;32m     14\u001B[0m     RolloutBufferSamples,\n\u001B[0;32m     15\u001B[0m )\n\u001B[1;32m---> 16\u001B[0m \u001B[38;5;28;01mfrom\u001B[39;00m \u001B[38;5;21;01mstable_baselines3\u001B[39;00m\u001B[38;5;21;01m.\u001B[39;00m\u001B[38;5;21;01mcommon\u001B[39;00m\u001B[38;5;21;01m.\u001B[39;00m\u001B[38;5;21;01mutils\u001B[39;00m \u001B[38;5;28;01mimport\u001B[39;00m get_device\n\u001B[0;32m     17\u001B[0m \u001B[38;5;28;01mfrom\u001B[39;00m \u001B[38;5;21;01mstable_baselines3\u001B[39;00m\u001B[38;5;21;01m.\u001B[39;00m\u001B[38;5;21;01mcommon\u001B[39;00m\u001B[38;5;21;01m.\u001B[39;00m\u001B[38;5;21;01mvec_env\u001B[39;00m \u001B[38;5;28;01mimport\u001B[39;00m VecNormalize\n\u001B[0;32m     19\u001B[0m \u001B[38;5;28;01mtry\u001B[39;00m:\n\u001B[0;32m     20\u001B[0m     \u001B[38;5;66;03m# Check memory used by replay buffer when possible\u001B[39;00m\n",
      "File \u001B[1;32m~\\anaconda3\\Lib\\site-packages\\stable_baselines3\\common\\utils.py:20\u001B[0m\n\u001B[0;32m     18\u001B[0m \u001B[38;5;66;03m# Check if tensorboard is available for pytorch\u001B[39;00m\n\u001B[0;32m     19\u001B[0m \u001B[38;5;28;01mtry\u001B[39;00m:\n\u001B[1;32m---> 20\u001B[0m     \u001B[38;5;28;01mfrom\u001B[39;00m \u001B[38;5;21;01mtorch\u001B[39;00m\u001B[38;5;21;01m.\u001B[39;00m\u001B[38;5;21;01mutils\u001B[39;00m\u001B[38;5;21;01m.\u001B[39;00m\u001B[38;5;21;01mtensorboard\u001B[39;00m \u001B[38;5;28;01mimport\u001B[39;00m SummaryWriter\n\u001B[0;32m     21\u001B[0m \u001B[38;5;28;01mexcept\u001B[39;00m \u001B[38;5;167;01mImportError\u001B[39;00m:\n\u001B[0;32m     22\u001B[0m     SummaryWriter \u001B[38;5;241m=\u001B[39m \u001B[38;5;28;01mNone\u001B[39;00m  \u001B[38;5;66;03m# type: ignore[misc, assignment]\u001B[39;00m\n",
      "File \u001B[1;32m~\\anaconda3\\Lib\\site-packages\\torch\\utils\\tensorboard\\__init__.py:12\u001B[0m\n\u001B[0;32m      9\u001B[0m \u001B[38;5;28;01mdel\u001B[39;00m Version\n\u001B[0;32m     10\u001B[0m \u001B[38;5;28;01mdel\u001B[39;00m tensorboard\n\u001B[1;32m---> 12\u001B[0m \u001B[38;5;28;01mfrom\u001B[39;00m \u001B[38;5;21;01m.\u001B[39;00m\u001B[38;5;21;01mwriter\u001B[39;00m \u001B[38;5;28;01mimport\u001B[39;00m FileWriter, SummaryWriter  \u001B[38;5;66;03m# noqa: F401\u001B[39;00m\n\u001B[0;32m     13\u001B[0m \u001B[38;5;28;01mfrom\u001B[39;00m \u001B[38;5;21;01mtensorboard\u001B[39;00m\u001B[38;5;21;01m.\u001B[39;00m\u001B[38;5;21;01msummary\u001B[39;00m\u001B[38;5;21;01m.\u001B[39;00m\u001B[38;5;21;01mwriter\u001B[39;00m\u001B[38;5;21;01m.\u001B[39;00m\u001B[38;5;21;01mrecord_writer\u001B[39;00m \u001B[38;5;28;01mimport\u001B[39;00m RecordWriter\n",
      "File \u001B[1;32m~\\anaconda3\\Lib\\site-packages\\torch\\utils\\tensorboard\\writer.py:16\u001B[0m\n\u001B[0;32m     13\u001B[0m \u001B[38;5;28;01mfrom\u001B[39;00m \u001B[38;5;21;01mtensorboard\u001B[39;00m\u001B[38;5;21;01m.\u001B[39;00m\u001B[38;5;21;01msummary\u001B[39;00m\u001B[38;5;21;01m.\u001B[39;00m\u001B[38;5;21;01mwriter\u001B[39;00m\u001B[38;5;21;01m.\u001B[39;00m\u001B[38;5;21;01mevent_file_writer\u001B[39;00m \u001B[38;5;28;01mimport\u001B[39;00m EventFileWriter\n\u001B[0;32m     15\u001B[0m \u001B[38;5;28;01mfrom\u001B[39;00m \u001B[38;5;21;01m.\u001B[39;00m\u001B[38;5;21;01m_convert_np\u001B[39;00m \u001B[38;5;28;01mimport\u001B[39;00m make_np\n\u001B[1;32m---> 16\u001B[0m \u001B[38;5;28;01mfrom\u001B[39;00m \u001B[38;5;21;01m.\u001B[39;00m\u001B[38;5;21;01m_embedding\u001B[39;00m \u001B[38;5;28;01mimport\u001B[39;00m get_embedding_info, make_mat, make_sprite, make_tsv, write_pbtxt\n\u001B[0;32m     17\u001B[0m \u001B[38;5;28;01mfrom\u001B[39;00m \u001B[38;5;21;01m.\u001B[39;00m\u001B[38;5;21;01m_onnx_graph\u001B[39;00m \u001B[38;5;28;01mimport\u001B[39;00m load_onnx_graph\n\u001B[0;32m     18\u001B[0m \u001B[38;5;28;01mfrom\u001B[39;00m \u001B[38;5;21;01m.\u001B[39;00m\u001B[38;5;21;01m_pytorch_graph\u001B[39;00m \u001B[38;5;28;01mimport\u001B[39;00m graph\n",
      "File \u001B[1;32m~\\anaconda3\\Lib\\site-packages\\torch\\utils\\tensorboard\\_embedding.py:9\u001B[0m\n\u001B[0;32m      5\u001B[0m \u001B[38;5;28;01mfrom\u001B[39;00m \u001B[38;5;21;01mtensorboard\u001B[39;00m\u001B[38;5;21;01m.\u001B[39;00m\u001B[38;5;21;01mcompat\u001B[39;00m \u001B[38;5;28;01mimport\u001B[39;00m tf\n\u001B[0;32m      6\u001B[0m \u001B[38;5;28;01mfrom\u001B[39;00m \u001B[38;5;21;01mtensorboard\u001B[39;00m\u001B[38;5;21;01m.\u001B[39;00m\u001B[38;5;21;01mplugins\u001B[39;00m\u001B[38;5;21;01m.\u001B[39;00m\u001B[38;5;21;01mprojector\u001B[39;00m\u001B[38;5;21;01m.\u001B[39;00m\u001B[38;5;21;01mprojector_config_pb2\u001B[39;00m \u001B[38;5;28;01mimport\u001B[39;00m EmbeddingInfo\n\u001B[1;32m----> 9\u001B[0m _HAS_GFILE_JOIN \u001B[38;5;241m=\u001B[39m \u001B[38;5;28mhasattr\u001B[39m(tf\u001B[38;5;241m.\u001B[39mio\u001B[38;5;241m.\u001B[39mgfile, \u001B[38;5;124m\"\u001B[39m\u001B[38;5;124mjoin\u001B[39m\u001B[38;5;124m\"\u001B[39m)\n\u001B[0;32m     12\u001B[0m \u001B[38;5;28;01mdef\u001B[39;00m \u001B[38;5;21m_gfile_join\u001B[39m(a, b):\n\u001B[0;32m     13\u001B[0m     \u001B[38;5;66;03m# The join API is different between tensorboard's TF stub and TF:\u001B[39;00m\n\u001B[0;32m     14\u001B[0m     \u001B[38;5;66;03m# https://github.com/tensorflow/tensorboard/issues/6080\u001B[39;00m\n\u001B[0;32m     15\u001B[0m     \u001B[38;5;66;03m# We need to try both because `tf` may point to either the stub or the real TF.\u001B[39;00m\n\u001B[0;32m     16\u001B[0m     \u001B[38;5;28;01mif\u001B[39;00m _HAS_GFILE_JOIN:\n",
      "File \u001B[1;32m~\\anaconda3\\Lib\\site-packages\\tensorboard\\lazy.py:65\u001B[0m, in \u001B[0;36mlazy_load.<locals>.wrapper.<locals>.LazyModule.__getattr__\u001B[1;34m(self, attr_name)\u001B[0m\n\u001B[0;32m     64\u001B[0m \u001B[38;5;28;01mdef\u001B[39;00m \u001B[38;5;21m__getattr__\u001B[39m(\u001B[38;5;28mself\u001B[39m, attr_name):\n\u001B[1;32m---> 65\u001B[0m     \u001B[38;5;28;01mreturn\u001B[39;00m \u001B[38;5;28mgetattr\u001B[39m(load_once(\u001B[38;5;28mself\u001B[39m), attr_name)\n",
      "File \u001B[1;32m~\\anaconda3\\Lib\\site-packages\\tensorboard\\lazy.py:97\u001B[0m, in \u001B[0;36m_memoize.<locals>.wrapper\u001B[1;34m(arg)\u001B[0m\n\u001B[0;32m     95\u001B[0m     \u001B[38;5;28;01mwith\u001B[39;00m lock:\n\u001B[0;32m     96\u001B[0m         \u001B[38;5;28;01mif\u001B[39;00m cache\u001B[38;5;241m.\u001B[39mget(arg, nothing) \u001B[38;5;129;01mis\u001B[39;00m nothing:\n\u001B[1;32m---> 97\u001B[0m             cache[arg] \u001B[38;5;241m=\u001B[39m f(arg)\n\u001B[0;32m     98\u001B[0m \u001B[38;5;28;01mreturn\u001B[39;00m cache[arg]\n",
      "File \u001B[1;32m~\\anaconda3\\Lib\\site-packages\\tensorboard\\lazy.py:50\u001B[0m, in \u001B[0;36mlazy_load.<locals>.wrapper.<locals>.load_once\u001B[1;34m(self)\u001B[0m\n\u001B[0;32m     48\u001B[0m load_once\u001B[38;5;241m.\u001B[39mloading \u001B[38;5;241m=\u001B[39m \u001B[38;5;28;01mTrue\u001B[39;00m\n\u001B[0;32m     49\u001B[0m \u001B[38;5;28;01mtry\u001B[39;00m:\n\u001B[1;32m---> 50\u001B[0m     module \u001B[38;5;241m=\u001B[39m load_fn()\n\u001B[0;32m     51\u001B[0m \u001B[38;5;28;01mfinally\u001B[39;00m:\n\u001B[0;32m     52\u001B[0m     load_once\u001B[38;5;241m.\u001B[39mloading \u001B[38;5;241m=\u001B[39m \u001B[38;5;28;01mFalse\u001B[39;00m\n",
      "File \u001B[1;32m~\\anaconda3\\Lib\\site-packages\\tensorboard\\compat\\__init__.py:45\u001B[0m, in \u001B[0;36mtf\u001B[1;34m()\u001B[0m\n\u001B[0;32m     43\u001B[0m \u001B[38;5;28;01mexcept\u001B[39;00m \u001B[38;5;167;01mImportError\u001B[39;00m:\n\u001B[0;32m     44\u001B[0m     \u001B[38;5;28;01mtry\u001B[39;00m:\n\u001B[1;32m---> 45\u001B[0m         \u001B[38;5;28;01mimport\u001B[39;00m \u001B[38;5;21;01mtensorflow\u001B[39;00m\n\u001B[0;32m     47\u001B[0m         \u001B[38;5;28;01mreturn\u001B[39;00m tensorflow\n\u001B[0;32m     48\u001B[0m     \u001B[38;5;28;01mexcept\u001B[39;00m \u001B[38;5;167;01mImportError\u001B[39;00m:\n",
      "File \u001B[1;32m~\\anaconda3\\Lib\\site-packages\\tensorflow\\__init__.py:478\u001B[0m\n\u001B[0;32m    473\u001B[0m \u001B[38;5;66;03m# Do an eager load for Keras' code so that any function/method that needs to\u001B[39;00m\n\u001B[0;32m    474\u001B[0m \u001B[38;5;66;03m# happen at load time will trigger, eg registration of optimizers in the\u001B[39;00m\n\u001B[0;32m    475\u001B[0m \u001B[38;5;66;03m# SavedModel registry.\u001B[39;00m\n\u001B[0;32m    476\u001B[0m \u001B[38;5;66;03m# See b/196254385 for more details.\u001B[39;00m\n\u001B[0;32m    477\u001B[0m \u001B[38;5;28;01mtry\u001B[39;00m:\n\u001B[1;32m--> 478\u001B[0m   importlib\u001B[38;5;241m.\u001B[39mimport_module(\u001B[38;5;124m\"\u001B[39m\u001B[38;5;124mkeras.optimizers\u001B[39m\u001B[38;5;124m\"\u001B[39m)\n\u001B[0;32m    479\u001B[0m \u001B[38;5;28;01mexcept\u001B[39;00m (\u001B[38;5;167;01mImportError\u001B[39;00m, \u001B[38;5;167;01mAttributeError\u001B[39;00m):\n\u001B[0;32m    480\u001B[0m   \u001B[38;5;28;01mpass\u001B[39;00m\n",
      "File \u001B[1;32m~\\anaconda3\\Lib\\importlib\\__init__.py:126\u001B[0m, in \u001B[0;36mimport_module\u001B[1;34m(name, package)\u001B[0m\n\u001B[0;32m    124\u001B[0m             \u001B[38;5;28;01mbreak\u001B[39;00m\n\u001B[0;32m    125\u001B[0m         level \u001B[38;5;241m+\u001B[39m\u001B[38;5;241m=\u001B[39m \u001B[38;5;241m1\u001B[39m\n\u001B[1;32m--> 126\u001B[0m \u001B[38;5;28;01mreturn\u001B[39;00m _bootstrap\u001B[38;5;241m.\u001B[39m_gcd_import(name[level:], package, level)\n",
      "File \u001B[1;32m~\\anaconda3\\Lib\\site-packages\\keras\\__init__.py:25\u001B[0m\n\u001B[0;32m     22\u001B[0m \u001B[38;5;28;01mfrom\u001B[39;00m \u001B[38;5;21;01mkeras\u001B[39;00m \u001B[38;5;28;01mimport\u001B[39;00m distribute\n\u001B[0;32m     24\u001B[0m \u001B[38;5;66;03m# See b/110718070#comment18 for more details about this import.\u001B[39;00m\n\u001B[1;32m---> 25\u001B[0m \u001B[38;5;28;01mfrom\u001B[39;00m \u001B[38;5;21;01mkeras\u001B[39;00m \u001B[38;5;28;01mimport\u001B[39;00m models\n\u001B[0;32m     27\u001B[0m \u001B[38;5;28;01mfrom\u001B[39;00m \u001B[38;5;21;01mkeras\u001B[39;00m\u001B[38;5;21;01m.\u001B[39;00m\u001B[38;5;21;01mengine\u001B[39;00m\u001B[38;5;21;01m.\u001B[39;00m\u001B[38;5;21;01minput_layer\u001B[39;00m \u001B[38;5;28;01mimport\u001B[39;00m Input\n\u001B[0;32m     28\u001B[0m \u001B[38;5;28;01mfrom\u001B[39;00m \u001B[38;5;21;01mkeras\u001B[39;00m\u001B[38;5;21;01m.\u001B[39;00m\u001B[38;5;21;01mengine\u001B[39;00m\u001B[38;5;21;01m.\u001B[39;00m\u001B[38;5;21;01msequential\u001B[39;00m \u001B[38;5;28;01mimport\u001B[39;00m Sequential\n",
      "File \u001B[1;32m~\\anaconda3\\Lib\\site-packages\\keras\\models\\__init__.py:3\u001B[0m\n\u001B[0;32m      1\u001B[0m \u001B[38;5;124;03m\"\"\"AUTOGENERATED. DO NOT EDIT.\"\"\"\u001B[39;00m\n\u001B[1;32m----> 3\u001B[0m \u001B[38;5;28;01mfrom\u001B[39;00m \u001B[38;5;21;01mkeras\u001B[39;00m\u001B[38;5;21;01m.\u001B[39;00m\u001B[38;5;21;01mmodels\u001B[39;00m \u001B[38;5;28;01mimport\u001B[39;00m experimental\n\u001B[0;32m      4\u001B[0m \u001B[38;5;28;01mfrom\u001B[39;00m \u001B[38;5;21;01mkeras\u001B[39;00m\u001B[38;5;21;01m.\u001B[39;00m\u001B[38;5;21;01msrc\u001B[39;00m\u001B[38;5;21;01m.\u001B[39;00m\u001B[38;5;21;01mengine\u001B[39;00m\u001B[38;5;21;01m.\u001B[39;00m\u001B[38;5;21;01msequential\u001B[39;00m \u001B[38;5;28;01mimport\u001B[39;00m Sequential\n\u001B[0;32m      5\u001B[0m \u001B[38;5;28;01mfrom\u001B[39;00m \u001B[38;5;21;01mkeras\u001B[39;00m\u001B[38;5;21;01m.\u001B[39;00m\u001B[38;5;21;01msrc\u001B[39;00m\u001B[38;5;21;01m.\u001B[39;00m\u001B[38;5;21;01mengine\u001B[39;00m\u001B[38;5;21;01m.\u001B[39;00m\u001B[38;5;21;01mtraining\u001B[39;00m \u001B[38;5;28;01mimport\u001B[39;00m Model\n",
      "File \u001B[1;32m~\\anaconda3\\Lib\\site-packages\\keras\\models\\experimental\\__init__.py:3\u001B[0m\n\u001B[0;32m      1\u001B[0m \u001B[38;5;124;03m\"\"\"AUTOGENERATED. DO NOT EDIT.\"\"\"\u001B[39;00m\n\u001B[1;32m----> 3\u001B[0m \u001B[38;5;28;01mfrom\u001B[39;00m \u001B[38;5;21;01mkeras\u001B[39;00m\u001B[38;5;21;01m.\u001B[39;00m\u001B[38;5;21;01msrc\u001B[39;00m\u001B[38;5;21;01m.\u001B[39;00m\u001B[38;5;21;01mmodels\u001B[39;00m\u001B[38;5;21;01m.\u001B[39;00m\u001B[38;5;21;01msharpness_aware_minimization\u001B[39;00m \u001B[38;5;28;01mimport\u001B[39;00m SharpnessAwareMinimization\n",
      "File \u001B[1;32m~\\anaconda3\\Lib\\site-packages\\keras\\src\\__init__.py:21\u001B[0m\n\u001B[0;32m     15\u001B[0m \u001B[38;5;124;03m\"\"\"Implementation of the Keras API, the high-level API of TensorFlow.\u001B[39;00m\n\u001B[0;32m     16\u001B[0m \n\u001B[0;32m     17\u001B[0m \u001B[38;5;124;03mDetailed documentation and user guides are available at\u001B[39;00m\n\u001B[0;32m     18\u001B[0m \u001B[38;5;124;03m[keras.io](https://keras.io).\u001B[39;00m\n\u001B[0;32m     19\u001B[0m \u001B[38;5;124;03m\"\"\"\u001B[39;00m\n\u001B[0;32m     20\u001B[0m \u001B[38;5;28;01mfrom\u001B[39;00m \u001B[38;5;21;01mkeras\u001B[39;00m\u001B[38;5;21;01m.\u001B[39;00m\u001B[38;5;21;01msrc\u001B[39;00m \u001B[38;5;28;01mimport\u001B[39;00m distribute\n\u001B[1;32m---> 21\u001B[0m \u001B[38;5;28;01mfrom\u001B[39;00m \u001B[38;5;21;01mkeras\u001B[39;00m\u001B[38;5;21;01m.\u001B[39;00m\u001B[38;5;21;01msrc\u001B[39;00m \u001B[38;5;28;01mimport\u001B[39;00m models\n\u001B[0;32m     22\u001B[0m \u001B[38;5;28;01mfrom\u001B[39;00m \u001B[38;5;21;01mkeras\u001B[39;00m\u001B[38;5;21;01m.\u001B[39;00m\u001B[38;5;21;01msrc\u001B[39;00m\u001B[38;5;21;01m.\u001B[39;00m\u001B[38;5;21;01mengine\u001B[39;00m\u001B[38;5;21;01m.\u001B[39;00m\u001B[38;5;21;01minput_layer\u001B[39;00m \u001B[38;5;28;01mimport\u001B[39;00m Input\n\u001B[0;32m     23\u001B[0m \u001B[38;5;28;01mfrom\u001B[39;00m \u001B[38;5;21;01mkeras\u001B[39;00m\u001B[38;5;21;01m.\u001B[39;00m\u001B[38;5;21;01msrc\u001B[39;00m\u001B[38;5;21;01m.\u001B[39;00m\u001B[38;5;21;01mengine\u001B[39;00m\u001B[38;5;21;01m.\u001B[39;00m\u001B[38;5;21;01msequential\u001B[39;00m \u001B[38;5;28;01mimport\u001B[39;00m Sequential\n",
      "File \u001B[1;32m~\\anaconda3\\Lib\\site-packages\\keras\\src\\models\\__init__.py:18\u001B[0m\n\u001B[0;32m      1\u001B[0m \u001B[38;5;66;03m# Copyright 2022 The TensorFlow Authors. All Rights Reserved.\u001B[39;00m\n\u001B[0;32m      2\u001B[0m \u001B[38;5;66;03m#\u001B[39;00m\n\u001B[0;32m      3\u001B[0m \u001B[38;5;66;03m# Licensed under the Apache License, Version 2.0 (the \"License\");\u001B[39;00m\n\u001B[1;32m   (...)\u001B[0m\n\u001B[0;32m     13\u001B[0m \u001B[38;5;66;03m# limitations under the License.\u001B[39;00m\n\u001B[0;32m     14\u001B[0m \u001B[38;5;66;03m# ==============================================================================\u001B[39;00m\n\u001B[0;32m     15\u001B[0m \u001B[38;5;124;03m\"\"\"Keras models API.\"\"\"\u001B[39;00m\n\u001B[1;32m---> 18\u001B[0m \u001B[38;5;28;01mfrom\u001B[39;00m \u001B[38;5;21;01mkeras\u001B[39;00m\u001B[38;5;21;01m.\u001B[39;00m\u001B[38;5;21;01msrc\u001B[39;00m\u001B[38;5;21;01m.\u001B[39;00m\u001B[38;5;21;01mengine\u001B[39;00m\u001B[38;5;21;01m.\u001B[39;00m\u001B[38;5;21;01mfunctional\u001B[39;00m \u001B[38;5;28;01mimport\u001B[39;00m Functional\n\u001B[0;32m     19\u001B[0m \u001B[38;5;28;01mfrom\u001B[39;00m \u001B[38;5;21;01mkeras\u001B[39;00m\u001B[38;5;21;01m.\u001B[39;00m\u001B[38;5;21;01msrc\u001B[39;00m\u001B[38;5;21;01m.\u001B[39;00m\u001B[38;5;21;01mengine\u001B[39;00m\u001B[38;5;21;01m.\u001B[39;00m\u001B[38;5;21;01msequential\u001B[39;00m \u001B[38;5;28;01mimport\u001B[39;00m Sequential\n\u001B[0;32m     20\u001B[0m \u001B[38;5;28;01mfrom\u001B[39;00m \u001B[38;5;21;01mkeras\u001B[39;00m\u001B[38;5;21;01m.\u001B[39;00m\u001B[38;5;21;01msrc\u001B[39;00m\u001B[38;5;21;01m.\u001B[39;00m\u001B[38;5;21;01mengine\u001B[39;00m\u001B[38;5;21;01m.\u001B[39;00m\u001B[38;5;21;01mtraining\u001B[39;00m \u001B[38;5;28;01mimport\u001B[39;00m Model\n",
      "File \u001B[1;32m~\\anaconda3\\Lib\\site-packages\\keras\\src\\engine\\functional.py:25\u001B[0m\n\u001B[0;32m     21\u001B[0m \u001B[38;5;28;01mimport\u001B[39;00m \u001B[38;5;21;01mwarnings\u001B[39;00m\n\u001B[0;32m     23\u001B[0m \u001B[38;5;28;01mimport\u001B[39;00m \u001B[38;5;21;01mtensorflow\u001B[39;00m\u001B[38;5;21;01m.\u001B[39;00m\u001B[38;5;21;01mcompat\u001B[39;00m\u001B[38;5;21;01m.\u001B[39;00m\u001B[38;5;21;01mv2\u001B[39;00m \u001B[38;5;28;01mas\u001B[39;00m \u001B[38;5;21;01mtf\u001B[39;00m\n\u001B[1;32m---> 25\u001B[0m \u001B[38;5;28;01mfrom\u001B[39;00m \u001B[38;5;21;01mkeras\u001B[39;00m\u001B[38;5;21;01m.\u001B[39;00m\u001B[38;5;21;01msrc\u001B[39;00m \u001B[38;5;28;01mimport\u001B[39;00m backend\n\u001B[0;32m     26\u001B[0m \u001B[38;5;28;01mfrom\u001B[39;00m \u001B[38;5;21;01mkeras\u001B[39;00m\u001B[38;5;21;01m.\u001B[39;00m\u001B[38;5;21;01msrc\u001B[39;00m\u001B[38;5;21;01m.\u001B[39;00m\u001B[38;5;21;01mdtensor\u001B[39;00m \u001B[38;5;28;01mimport\u001B[39;00m layout_map \u001B[38;5;28;01mas\u001B[39;00m layout_map_lib\n\u001B[0;32m     27\u001B[0m \u001B[38;5;28;01mfrom\u001B[39;00m \u001B[38;5;21;01mkeras\u001B[39;00m\u001B[38;5;21;01m.\u001B[39;00m\u001B[38;5;21;01msrc\u001B[39;00m\u001B[38;5;21;01m.\u001B[39;00m\u001B[38;5;21;01mengine\u001B[39;00m \u001B[38;5;28;01mimport\u001B[39;00m base_layer\n",
      "File \u001B[1;32m~\\anaconda3\\Lib\\site-packages\\keras\\src\\backend.py:35\u001B[0m\n\u001B[0;32m     33\u001B[0m \u001B[38;5;28;01mfrom\u001B[39;00m \u001B[38;5;21;01mkeras\u001B[39;00m\u001B[38;5;21;01m.\u001B[39;00m\u001B[38;5;21;01msrc\u001B[39;00m\u001B[38;5;21;01m.\u001B[39;00m\u001B[38;5;21;01mdistribute\u001B[39;00m \u001B[38;5;28;01mimport\u001B[39;00m distribute_coordinator_utils \u001B[38;5;28;01mas\u001B[39;00m dc\n\u001B[0;32m     34\u001B[0m \u001B[38;5;28;01mfrom\u001B[39;00m \u001B[38;5;21;01mkeras\u001B[39;00m\u001B[38;5;21;01m.\u001B[39;00m\u001B[38;5;21;01msrc\u001B[39;00m\u001B[38;5;21;01m.\u001B[39;00m\u001B[38;5;21;01mdtensor\u001B[39;00m \u001B[38;5;28;01mimport\u001B[39;00m dtensor_api \u001B[38;5;28;01mas\u001B[39;00m dtensor\n\u001B[1;32m---> 35\u001B[0m \u001B[38;5;28;01mfrom\u001B[39;00m \u001B[38;5;21;01mkeras\u001B[39;00m\u001B[38;5;21;01m.\u001B[39;00m\u001B[38;5;21;01msrc\u001B[39;00m\u001B[38;5;21;01m.\u001B[39;00m\u001B[38;5;21;01mengine\u001B[39;00m \u001B[38;5;28;01mimport\u001B[39;00m keras_tensor\n\u001B[0;32m     36\u001B[0m \u001B[38;5;28;01mfrom\u001B[39;00m \u001B[38;5;21;01mkeras\u001B[39;00m\u001B[38;5;21;01m.\u001B[39;00m\u001B[38;5;21;01msrc\u001B[39;00m\u001B[38;5;21;01m.\u001B[39;00m\u001B[38;5;21;01mutils\u001B[39;00m \u001B[38;5;28;01mimport\u001B[39;00m control_flow_util\n\u001B[0;32m     37\u001B[0m \u001B[38;5;28;01mfrom\u001B[39;00m \u001B[38;5;21;01mkeras\u001B[39;00m\u001B[38;5;21;01m.\u001B[39;00m\u001B[38;5;21;01msrc\u001B[39;00m\u001B[38;5;21;01m.\u001B[39;00m\u001B[38;5;21;01mutils\u001B[39;00m \u001B[38;5;28;01mimport\u001B[39;00m object_identity\n",
      "File \u001B[1;32m~\\anaconda3\\Lib\\site-packages\\keras\\src\\engine\\keras_tensor.py:19\u001B[0m\n\u001B[0;32m     15\u001B[0m \u001B[38;5;124;03m\"\"\"Keras Input Tensor used to track functional API Topology.\"\"\"\u001B[39;00m\n\u001B[0;32m     17\u001B[0m \u001B[38;5;28;01mimport\u001B[39;00m \u001B[38;5;21;01mtensorflow\u001B[39;00m\u001B[38;5;21;01m.\u001B[39;00m\u001B[38;5;21;01mcompat\u001B[39;00m\u001B[38;5;21;01m.\u001B[39;00m\u001B[38;5;21;01mv2\u001B[39;00m \u001B[38;5;28;01mas\u001B[39;00m \u001B[38;5;21;01mtf\u001B[39;00m\n\u001B[1;32m---> 19\u001B[0m \u001B[38;5;28;01mfrom\u001B[39;00m \u001B[38;5;21;01mkeras\u001B[39;00m\u001B[38;5;21;01m.\u001B[39;00m\u001B[38;5;21;01msrc\u001B[39;00m\u001B[38;5;21;01m.\u001B[39;00m\u001B[38;5;21;01mutils\u001B[39;00m \u001B[38;5;28;01mimport\u001B[39;00m object_identity\n\u001B[0;32m     21\u001B[0m \u001B[38;5;66;03m# isort: off\u001B[39;00m\n\u001B[0;32m     22\u001B[0m \u001B[38;5;28;01mfrom\u001B[39;00m \u001B[38;5;21;01mtensorflow\u001B[39;00m\u001B[38;5;21;01m.\u001B[39;00m\u001B[38;5;21;01mpython\u001B[39;00m\u001B[38;5;21;01m.\u001B[39;00m\u001B[38;5;21;01mdata\u001B[39;00m\u001B[38;5;21;01m.\u001B[39;00m\u001B[38;5;21;01mutil\u001B[39;00m \u001B[38;5;28;01mimport\u001B[39;00m structure\n",
      "File \u001B[1;32m~\\anaconda3\\Lib\\site-packages\\keras\\src\\utils\\__init__.py:53\u001B[0m\n\u001B[0;32m     50\u001B[0m \u001B[38;5;28;01mfrom\u001B[39;00m \u001B[38;5;21;01mkeras\u001B[39;00m\u001B[38;5;21;01m.\u001B[39;00m\u001B[38;5;21;01msrc\u001B[39;00m\u001B[38;5;21;01m.\u001B[39;00m\u001B[38;5;21;01mutils\u001B[39;00m\u001B[38;5;21;01m.\u001B[39;00m\u001B[38;5;21;01mdata_utils\u001B[39;00m \u001B[38;5;28;01mimport\u001B[39;00m get_file\n\u001B[0;32m     52\u001B[0m \u001B[38;5;66;03m# Preprocessing utils\u001B[39;00m\n\u001B[1;32m---> 53\u001B[0m \u001B[38;5;28;01mfrom\u001B[39;00m \u001B[38;5;21;01mkeras\u001B[39;00m\u001B[38;5;21;01m.\u001B[39;00m\u001B[38;5;21;01msrc\u001B[39;00m\u001B[38;5;21;01m.\u001B[39;00m\u001B[38;5;21;01mutils\u001B[39;00m\u001B[38;5;21;01m.\u001B[39;00m\u001B[38;5;21;01mfeature_space\u001B[39;00m \u001B[38;5;28;01mimport\u001B[39;00m FeatureSpace\n\u001B[0;32m     55\u001B[0m \u001B[38;5;66;03m# Internal\u001B[39;00m\n\u001B[0;32m     56\u001B[0m \u001B[38;5;28;01mfrom\u001B[39;00m \u001B[38;5;21;01mkeras\u001B[39;00m\u001B[38;5;21;01m.\u001B[39;00m\u001B[38;5;21;01msrc\u001B[39;00m\u001B[38;5;21;01m.\u001B[39;00m\u001B[38;5;21;01mutils\u001B[39;00m\u001B[38;5;21;01m.\u001B[39;00m\u001B[38;5;21;01mlayer_utils\u001B[39;00m \u001B[38;5;28;01mimport\u001B[39;00m get_source_inputs\n",
      "File \u001B[1;32m~\\anaconda3\\Lib\\site-packages\\keras\\src\\utils\\feature_space.py:20\u001B[0m\n\u001B[0;32m     17\u001B[0m \u001B[38;5;28;01mimport\u001B[39;00m \u001B[38;5;21;01mtensorflow\u001B[39;00m\u001B[38;5;21;01m.\u001B[39;00m\u001B[38;5;21;01mcompat\u001B[39;00m\u001B[38;5;21;01m.\u001B[39;00m\u001B[38;5;21;01mv2\u001B[39;00m \u001B[38;5;28;01mas\u001B[39;00m \u001B[38;5;21;01mtf\u001B[39;00m\n\u001B[0;32m     19\u001B[0m \u001B[38;5;28;01mfrom\u001B[39;00m \u001B[38;5;21;01mkeras\u001B[39;00m\u001B[38;5;21;01m.\u001B[39;00m\u001B[38;5;21;01msrc\u001B[39;00m \u001B[38;5;28;01mimport\u001B[39;00m backend\n\u001B[1;32m---> 20\u001B[0m \u001B[38;5;28;01mfrom\u001B[39;00m \u001B[38;5;21;01mkeras\u001B[39;00m\u001B[38;5;21;01m.\u001B[39;00m\u001B[38;5;21;01msrc\u001B[39;00m\u001B[38;5;21;01m.\u001B[39;00m\u001B[38;5;21;01mengine\u001B[39;00m \u001B[38;5;28;01mimport\u001B[39;00m base_layer\n\u001B[0;32m     21\u001B[0m \u001B[38;5;28;01mfrom\u001B[39;00m \u001B[38;5;21;01mkeras\u001B[39;00m\u001B[38;5;21;01m.\u001B[39;00m\u001B[38;5;21;01msrc\u001B[39;00m\u001B[38;5;21;01m.\u001B[39;00m\u001B[38;5;21;01msaving\u001B[39;00m \u001B[38;5;28;01mimport\u001B[39;00m saving_lib\n\u001B[0;32m     22\u001B[0m \u001B[38;5;28;01mfrom\u001B[39;00m \u001B[38;5;21;01mkeras\u001B[39;00m\u001B[38;5;21;01m.\u001B[39;00m\u001B[38;5;21;01msrc\u001B[39;00m\u001B[38;5;21;01m.\u001B[39;00m\u001B[38;5;21;01msaving\u001B[39;00m \u001B[38;5;28;01mimport\u001B[39;00m serialization_lib\n",
      "File \u001B[1;32m~\\anaconda3\\Lib\\site-packages\\keras\\src\\engine\\base_layer.py:43\u001B[0m\n\u001B[0;32m     41\u001B[0m \u001B[38;5;28;01mfrom\u001B[39;00m \u001B[38;5;21;01mkeras\u001B[39;00m\u001B[38;5;21;01m.\u001B[39;00m\u001B[38;5;21;01msrc\u001B[39;00m\u001B[38;5;21;01m.\u001B[39;00m\u001B[38;5;21;01mmixed_precision\u001B[39;00m \u001B[38;5;28;01mimport\u001B[39;00m policy\n\u001B[0;32m     42\u001B[0m \u001B[38;5;28;01mfrom\u001B[39;00m \u001B[38;5;21;01mkeras\u001B[39;00m\u001B[38;5;21;01m.\u001B[39;00m\u001B[38;5;21;01msrc\u001B[39;00m\u001B[38;5;21;01m.\u001B[39;00m\u001B[38;5;21;01msaving\u001B[39;00m \u001B[38;5;28;01mimport\u001B[39;00m serialization_lib\n\u001B[1;32m---> 43\u001B[0m \u001B[38;5;28;01mfrom\u001B[39;00m \u001B[38;5;21;01mkeras\u001B[39;00m\u001B[38;5;21;01m.\u001B[39;00m\u001B[38;5;21;01msrc\u001B[39;00m\u001B[38;5;21;01m.\u001B[39;00m\u001B[38;5;21;01msaving\u001B[39;00m\u001B[38;5;21;01m.\u001B[39;00m\u001B[38;5;21;01mlegacy\u001B[39;00m\u001B[38;5;21;01m.\u001B[39;00m\u001B[38;5;21;01msaved_model\u001B[39;00m \u001B[38;5;28;01mimport\u001B[39;00m layer_serialization\n\u001B[0;32m     44\u001B[0m \u001B[38;5;28;01mfrom\u001B[39;00m \u001B[38;5;21;01mkeras\u001B[39;00m\u001B[38;5;21;01m.\u001B[39;00m\u001B[38;5;21;01msrc\u001B[39;00m\u001B[38;5;21;01m.\u001B[39;00m\u001B[38;5;21;01mutils\u001B[39;00m \u001B[38;5;28;01mimport\u001B[39;00m generic_utils\n\u001B[0;32m     45\u001B[0m \u001B[38;5;28;01mfrom\u001B[39;00m \u001B[38;5;21;01mkeras\u001B[39;00m\u001B[38;5;21;01m.\u001B[39;00m\u001B[38;5;21;01msrc\u001B[39;00m\u001B[38;5;21;01m.\u001B[39;00m\u001B[38;5;21;01mutils\u001B[39;00m \u001B[38;5;28;01mimport\u001B[39;00m layer_utils\n",
      "File \u001B[1;32m~\\anaconda3\\Lib\\site-packages\\keras\\src\\saving\\legacy\\saved_model\\layer_serialization.py:23\u001B[0m\n\u001B[0;32m     21\u001B[0m \u001B[38;5;28;01mfrom\u001B[39;00m \u001B[38;5;21;01mkeras\u001B[39;00m\u001B[38;5;21;01m.\u001B[39;00m\u001B[38;5;21;01msrc\u001B[39;00m\u001B[38;5;21;01m.\u001B[39;00m\u001B[38;5;21;01msaving\u001B[39;00m\u001B[38;5;21;01m.\u001B[39;00m\u001B[38;5;21;01mlegacy\u001B[39;00m\u001B[38;5;21;01m.\u001B[39;00m\u001B[38;5;21;01msaved_model\u001B[39;00m \u001B[38;5;28;01mimport\u001B[39;00m base_serialization\n\u001B[0;32m     22\u001B[0m \u001B[38;5;28;01mfrom\u001B[39;00m \u001B[38;5;21;01mkeras\u001B[39;00m\u001B[38;5;21;01m.\u001B[39;00m\u001B[38;5;21;01msrc\u001B[39;00m\u001B[38;5;21;01m.\u001B[39;00m\u001B[38;5;21;01msaving\u001B[39;00m\u001B[38;5;21;01m.\u001B[39;00m\u001B[38;5;21;01mlegacy\u001B[39;00m\u001B[38;5;21;01m.\u001B[39;00m\u001B[38;5;21;01msaved_model\u001B[39;00m \u001B[38;5;28;01mimport\u001B[39;00m constants\n\u001B[1;32m---> 23\u001B[0m \u001B[38;5;28;01mfrom\u001B[39;00m \u001B[38;5;21;01mkeras\u001B[39;00m\u001B[38;5;21;01m.\u001B[39;00m\u001B[38;5;21;01msrc\u001B[39;00m\u001B[38;5;21;01m.\u001B[39;00m\u001B[38;5;21;01msaving\u001B[39;00m\u001B[38;5;21;01m.\u001B[39;00m\u001B[38;5;21;01mlegacy\u001B[39;00m\u001B[38;5;21;01m.\u001B[39;00m\u001B[38;5;21;01msaved_model\u001B[39;00m \u001B[38;5;28;01mimport\u001B[39;00m save_impl\n\u001B[0;32m     24\u001B[0m \u001B[38;5;28;01mfrom\u001B[39;00m \u001B[38;5;21;01mkeras\u001B[39;00m\u001B[38;5;21;01m.\u001B[39;00m\u001B[38;5;21;01msrc\u001B[39;00m\u001B[38;5;21;01m.\u001B[39;00m\u001B[38;5;21;01msaving\u001B[39;00m\u001B[38;5;21;01m.\u001B[39;00m\u001B[38;5;21;01mlegacy\u001B[39;00m\u001B[38;5;21;01m.\u001B[39;00m\u001B[38;5;21;01msaved_model\u001B[39;00m \u001B[38;5;28;01mimport\u001B[39;00m serialized_attributes\n\u001B[0;32m     27\u001B[0m \u001B[38;5;28;01mclass\u001B[39;00m \u001B[38;5;21;01mLayerSavedModelSaver\u001B[39;00m(base_serialization\u001B[38;5;241m.\u001B[39mSavedModelSaver):\n",
      "File \u001B[1;32m~\\anaconda3\\Lib\\site-packages\\keras\\src\\saving\\legacy\\saved_model\\save_impl.py:34\u001B[0m\n\u001B[0;32m     32\u001B[0m \u001B[38;5;28;01mfrom\u001B[39;00m \u001B[38;5;21;01mkeras\u001B[39;00m\u001B[38;5;21;01m.\u001B[39;00m\u001B[38;5;21;01msrc\u001B[39;00m\u001B[38;5;21;01m.\u001B[39;00m\u001B[38;5;21;01msaving\u001B[39;00m\u001B[38;5;21;01m.\u001B[39;00m\u001B[38;5;21;01mlegacy\u001B[39;00m \u001B[38;5;28;01mimport\u001B[39;00m saving_utils\n\u001B[0;32m     33\u001B[0m \u001B[38;5;28;01mfrom\u001B[39;00m \u001B[38;5;21;01mkeras\u001B[39;00m\u001B[38;5;21;01m.\u001B[39;00m\u001B[38;5;21;01msrc\u001B[39;00m\u001B[38;5;21;01m.\u001B[39;00m\u001B[38;5;21;01msaving\u001B[39;00m\u001B[38;5;21;01m.\u001B[39;00m\u001B[38;5;21;01mlegacy\u001B[39;00m\u001B[38;5;21;01m.\u001B[39;00m\u001B[38;5;21;01msaved_model\u001B[39;00m \u001B[38;5;28;01mimport\u001B[39;00m constants\n\u001B[1;32m---> 34\u001B[0m \u001B[38;5;28;01mfrom\u001B[39;00m \u001B[38;5;21;01mkeras\u001B[39;00m\u001B[38;5;21;01m.\u001B[39;00m\u001B[38;5;21;01msrc\u001B[39;00m\u001B[38;5;21;01m.\u001B[39;00m\u001B[38;5;21;01msaving\u001B[39;00m\u001B[38;5;21;01m.\u001B[39;00m\u001B[38;5;21;01mlegacy\u001B[39;00m\u001B[38;5;21;01m.\u001B[39;00m\u001B[38;5;21;01msaved_model\u001B[39;00m \u001B[38;5;28;01mimport\u001B[39;00m load \u001B[38;5;28;01mas\u001B[39;00m keras_load\n\u001B[0;32m     35\u001B[0m \u001B[38;5;28;01mfrom\u001B[39;00m \u001B[38;5;21;01mkeras\u001B[39;00m\u001B[38;5;21;01m.\u001B[39;00m\u001B[38;5;21;01msrc\u001B[39;00m\u001B[38;5;21;01m.\u001B[39;00m\u001B[38;5;21;01msaving\u001B[39;00m\u001B[38;5;21;01m.\u001B[39;00m\u001B[38;5;21;01mlegacy\u001B[39;00m\u001B[38;5;21;01m.\u001B[39;00m\u001B[38;5;21;01msaved_model\u001B[39;00m \u001B[38;5;28;01mimport\u001B[39;00m serialized_attributes\n\u001B[0;32m     36\u001B[0m \u001B[38;5;28;01mfrom\u001B[39;00m \u001B[38;5;21;01mkeras\u001B[39;00m\u001B[38;5;21;01m.\u001B[39;00m\u001B[38;5;21;01msrc\u001B[39;00m\u001B[38;5;21;01m.\u001B[39;00m\u001B[38;5;21;01msaving\u001B[39;00m\u001B[38;5;21;01m.\u001B[39;00m\u001B[38;5;21;01mlegacy\u001B[39;00m\u001B[38;5;21;01m.\u001B[39;00m\u001B[38;5;21;01msaved_model\u001B[39;00m \u001B[38;5;28;01mimport\u001B[39;00m utils\n",
      "File \u001B[1;32m~\\anaconda3\\Lib\\site-packages\\keras\\src\\saving\\legacy\\saved_model\\load.py:29\u001B[0m\n\u001B[0;32m     27\u001B[0m \u001B[38;5;28;01mfrom\u001B[39;00m \u001B[38;5;21;01mkeras\u001B[39;00m\u001B[38;5;21;01m.\u001B[39;00m\u001B[38;5;21;01msrc\u001B[39;00m\u001B[38;5;21;01m.\u001B[39;00m\u001B[38;5;21;01mengine\u001B[39;00m \u001B[38;5;28;01mimport\u001B[39;00m input_spec\n\u001B[0;32m     28\u001B[0m \u001B[38;5;28;01mfrom\u001B[39;00m \u001B[38;5;21;01mkeras\u001B[39;00m\u001B[38;5;21;01m.\u001B[39;00m\u001B[38;5;21;01msrc\u001B[39;00m\u001B[38;5;21;01m.\u001B[39;00m\u001B[38;5;21;01moptimizers\u001B[39;00m\u001B[38;5;21;01m.\u001B[39;00m\u001B[38;5;21;01mlegacy\u001B[39;00m \u001B[38;5;28;01mimport\u001B[39;00m optimizer_v2\n\u001B[1;32m---> 29\u001B[0m \u001B[38;5;28;01mfrom\u001B[39;00m \u001B[38;5;21;01mkeras\u001B[39;00m\u001B[38;5;21;01m.\u001B[39;00m\u001B[38;5;21;01mprotobuf\u001B[39;00m \u001B[38;5;28;01mimport\u001B[39;00m saved_metadata_pb2\n\u001B[0;32m     30\u001B[0m \u001B[38;5;28;01mfrom\u001B[39;00m \u001B[38;5;21;01mkeras\u001B[39;00m\u001B[38;5;21;01m.\u001B[39;00m\u001B[38;5;21;01mprotobuf\u001B[39;00m \u001B[38;5;28;01mimport\u001B[39;00m versions_pb2\n\u001B[0;32m     31\u001B[0m \u001B[38;5;28;01mfrom\u001B[39;00m \u001B[38;5;21;01mkeras\u001B[39;00m\u001B[38;5;21;01m.\u001B[39;00m\u001B[38;5;21;01msrc\u001B[39;00m\u001B[38;5;21;01m.\u001B[39;00m\u001B[38;5;21;01msaving\u001B[39;00m \u001B[38;5;28;01mimport\u001B[39;00m object_registration\n",
      "File \u001B[1;32m~\\anaconda3\\Lib\\site-packages\\keras\\protobuf\\saved_metadata_pb2.py:16\u001B[0m\n\u001B[0;32m     11\u001B[0m \u001B[38;5;66;03m# @@protoc_insertion_point(imports)\u001B[39;00m\n\u001B[0;32m     13\u001B[0m _sym_db \u001B[38;5;241m=\u001B[39m _symbol_database\u001B[38;5;241m.\u001B[39mDefault()\n\u001B[1;32m---> 16\u001B[0m \u001B[38;5;28;01mfrom\u001B[39;00m \u001B[38;5;21;01mkeras\u001B[39;00m\u001B[38;5;21;01m.\u001B[39;00m\u001B[38;5;21;01mprotobuf\u001B[39;00m \u001B[38;5;28;01mimport\u001B[39;00m versions_pb2 \u001B[38;5;28;01mas\u001B[39;00m keras_dot_protobuf_dot_versions__pb2\n\u001B[0;32m     19\u001B[0m DESCRIPTOR \u001B[38;5;241m=\u001B[39m _descriptor\u001B[38;5;241m.\u001B[39mFileDescriptor(\n\u001B[0;32m     20\u001B[0m   name\u001B[38;5;241m=\u001B[39m\u001B[38;5;124m'\u001B[39m\u001B[38;5;124mkeras/protobuf/saved_metadata.proto\u001B[39m\u001B[38;5;124m'\u001B[39m,\n\u001B[0;32m     21\u001B[0m   package\u001B[38;5;241m=\u001B[39m\u001B[38;5;124m'\u001B[39m\u001B[38;5;124mthird_party.py.keras.protobuf\u001B[39m\u001B[38;5;124m'\u001B[39m,\n\u001B[1;32m   (...)\u001B[0m\n\u001B[0;32m     25\u001B[0m   ,\n\u001B[0;32m     26\u001B[0m   dependencies\u001B[38;5;241m=\u001B[39m[keras_dot_protobuf_dot_versions__pb2\u001B[38;5;241m.\u001B[39mDESCRIPTOR,])\n\u001B[0;32m     31\u001B[0m _SAVEDMETADATA \u001B[38;5;241m=\u001B[39m _descriptor\u001B[38;5;241m.\u001B[39mDescriptor(\n\u001B[0;32m     32\u001B[0m   name\u001B[38;5;241m=\u001B[39m\u001B[38;5;124m'\u001B[39m\u001B[38;5;124mSavedMetadata\u001B[39m\u001B[38;5;124m'\u001B[39m,\n\u001B[0;32m     33\u001B[0m   full_name\u001B[38;5;241m=\u001B[39m\u001B[38;5;124m'\u001B[39m\u001B[38;5;124mthird_party.py.keras.protobuf.SavedMetadata\u001B[39m\u001B[38;5;124m'\u001B[39m,\n\u001B[1;32m   (...)\u001B[0m\n\u001B[0;32m     58\u001B[0m   serialized_end\u001B[38;5;241m=\u001B[39m\u001B[38;5;241m175\u001B[39m,\n\u001B[0;32m     59\u001B[0m )\n",
      "File \u001B[1;32m~\\anaconda3\\Lib\\site-packages\\keras\\protobuf\\versions_pb2.py:36\u001B[0m\n\u001B[0;32m     13\u001B[0m _sym_db \u001B[38;5;241m=\u001B[39m _symbol_database\u001B[38;5;241m.\u001B[39mDefault()\n\u001B[0;32m     18\u001B[0m DESCRIPTOR \u001B[38;5;241m=\u001B[39m _descriptor\u001B[38;5;241m.\u001B[39mFileDescriptor(\n\u001B[0;32m     19\u001B[0m   name\u001B[38;5;241m=\u001B[39m\u001B[38;5;124m'\u001B[39m\u001B[38;5;124mkeras/protobuf/versions.proto\u001B[39m\u001B[38;5;124m'\u001B[39m,\n\u001B[0;32m     20\u001B[0m   package\u001B[38;5;241m=\u001B[39m\u001B[38;5;124m'\u001B[39m\u001B[38;5;124mthird_party.py.keras.protobuf\u001B[39m\u001B[38;5;124m'\u001B[39m,\n\u001B[1;32m   (...)\u001B[0m\n\u001B[0;32m     23\u001B[0m   serialized_pb\u001B[38;5;241m=\u001B[39m_b(\u001B[38;5;124m'\u001B[39m\u001B[38;5;130;01m\\n\u001B[39;00m\u001B[38;5;130;01m\\x1d\u001B[39;00m\u001B[38;5;124mkeras/protobuf/versions.proto\u001B[39m\u001B[38;5;130;01m\\x12\u001B[39;00m\u001B[38;5;130;01m\\x1d\u001B[39;00m\u001B[38;5;124mthird_party.py.keras.protobuf\u001B[39m\u001B[38;5;130;01m\\\"\u001B[39;00m\u001B[38;5;124mK\u001B[39m\u001B[38;5;130;01m\\n\u001B[39;00m\u001B[38;5;130;01m\\n\u001B[39;00m\u001B[38;5;124mVersionDef\u001B[39m\u001B[38;5;130;01m\\x12\u001B[39;00m\u001B[38;5;130;01m\\x10\u001B[39;00m\u001B[38;5;130;01m\\n\u001B[39;00m\u001B[38;5;130;01m\\x08\u001B[39;00m\u001B[38;5;124mproducer\u001B[39m\u001B[38;5;130;01m\\x18\u001B[39;00m\u001B[38;5;130;01m\\x01\u001B[39;00m\u001B[38;5;124m \u001B[39m\u001B[38;5;130;01m\\x01\u001B[39;00m\u001B[38;5;124m(\u001B[39m\u001B[38;5;130;01m\\x05\u001B[39;00m\u001B[38;5;130;01m\\x12\u001B[39;00m\u001B[38;5;130;01m\\x14\u001B[39;00m\u001B[38;5;130;01m\\n\u001B[39;00m\u001B[38;5;130;01m\\x0c\u001B[39;00m\u001B[38;5;124mmin_consumer\u001B[39m\u001B[38;5;130;01m\\x18\u001B[39;00m\u001B[38;5;130;01m\\x02\u001B[39;00m\u001B[38;5;124m \u001B[39m\u001B[38;5;130;01m\\x01\u001B[39;00m\u001B[38;5;124m(\u001B[39m\u001B[38;5;130;01m\\x05\u001B[39;00m\u001B[38;5;130;01m\\x12\u001B[39;00m\u001B[38;5;130;01m\\x15\u001B[39;00m\u001B[38;5;130;01m\\n\u001B[39;00m\u001B[38;5;130;01m\\r\u001B[39;00m\u001B[38;5;124mbad_consumers\u001B[39m\u001B[38;5;130;01m\\x18\u001B[39;00m\u001B[38;5;130;01m\\x03\u001B[39;00m\u001B[38;5;124m \u001B[39m\u001B[38;5;130;01m\\x03\u001B[39;00m\u001B[38;5;124m(\u001B[39m\u001B[38;5;130;01m\\x05\u001B[39;00m\u001B[38;5;130;01m\\x62\u001B[39;00m\u001B[38;5;130;01m\\x06\u001B[39;00m\u001B[38;5;124mproto3\u001B[39m\u001B[38;5;124m'\u001B[39m)\n\u001B[0;32m     24\u001B[0m )\n\u001B[0;32m     29\u001B[0m _VERSIONDEF \u001B[38;5;241m=\u001B[39m _descriptor\u001B[38;5;241m.\u001B[39mDescriptor(\n\u001B[0;32m     30\u001B[0m   name\u001B[38;5;241m=\u001B[39m\u001B[38;5;124m'\u001B[39m\u001B[38;5;124mVersionDef\u001B[39m\u001B[38;5;124m'\u001B[39m,\n\u001B[0;32m     31\u001B[0m   full_name\u001B[38;5;241m=\u001B[39m\u001B[38;5;124m'\u001B[39m\u001B[38;5;124mthird_party.py.keras.protobuf.VersionDef\u001B[39m\u001B[38;5;124m'\u001B[39m,\n\u001B[0;32m     32\u001B[0m   filename\u001B[38;5;241m=\u001B[39m\u001B[38;5;28;01mNone\u001B[39;00m,\n\u001B[0;32m     33\u001B[0m   file\u001B[38;5;241m=\u001B[39mDESCRIPTOR,\n\u001B[0;32m     34\u001B[0m   containing_type\u001B[38;5;241m=\u001B[39m\u001B[38;5;28;01mNone\u001B[39;00m,\n\u001B[0;32m     35\u001B[0m   fields\u001B[38;5;241m=\u001B[39m[\n\u001B[1;32m---> 36\u001B[0m     _descriptor\u001B[38;5;241m.\u001B[39mFieldDescriptor(\n\u001B[0;32m     37\u001B[0m       name\u001B[38;5;241m=\u001B[39m\u001B[38;5;124m'\u001B[39m\u001B[38;5;124mproducer\u001B[39m\u001B[38;5;124m'\u001B[39m, full_name\u001B[38;5;241m=\u001B[39m\u001B[38;5;124m'\u001B[39m\u001B[38;5;124mthird_party.py.keras.protobuf.VersionDef.producer\u001B[39m\u001B[38;5;124m'\u001B[39m, index\u001B[38;5;241m=\u001B[39m\u001B[38;5;241m0\u001B[39m,\n\u001B[0;32m     38\u001B[0m       number\u001B[38;5;241m=\u001B[39m\u001B[38;5;241m1\u001B[39m, \u001B[38;5;28mtype\u001B[39m\u001B[38;5;241m=\u001B[39m\u001B[38;5;241m5\u001B[39m, cpp_type\u001B[38;5;241m=\u001B[39m\u001B[38;5;241m1\u001B[39m, label\u001B[38;5;241m=\u001B[39m\u001B[38;5;241m1\u001B[39m,\n\u001B[0;32m     39\u001B[0m       has_default_value\u001B[38;5;241m=\u001B[39m\u001B[38;5;28;01mFalse\u001B[39;00m, default_value\u001B[38;5;241m=\u001B[39m\u001B[38;5;241m0\u001B[39m,\n\u001B[0;32m     40\u001B[0m       message_type\u001B[38;5;241m=\u001B[39m\u001B[38;5;28;01mNone\u001B[39;00m, enum_type\u001B[38;5;241m=\u001B[39m\u001B[38;5;28;01mNone\u001B[39;00m, containing_type\u001B[38;5;241m=\u001B[39m\u001B[38;5;28;01mNone\u001B[39;00m,\n\u001B[0;32m     41\u001B[0m       is_extension\u001B[38;5;241m=\u001B[39m\u001B[38;5;28;01mFalse\u001B[39;00m, extension_scope\u001B[38;5;241m=\u001B[39m\u001B[38;5;28;01mNone\u001B[39;00m,\n\u001B[0;32m     42\u001B[0m       serialized_options\u001B[38;5;241m=\u001B[39m\u001B[38;5;28;01mNone\u001B[39;00m, file\u001B[38;5;241m=\u001B[39mDESCRIPTOR),\n\u001B[0;32m     43\u001B[0m     _descriptor\u001B[38;5;241m.\u001B[39mFieldDescriptor(\n\u001B[0;32m     44\u001B[0m       name\u001B[38;5;241m=\u001B[39m\u001B[38;5;124m'\u001B[39m\u001B[38;5;124mmin_consumer\u001B[39m\u001B[38;5;124m'\u001B[39m, full_name\u001B[38;5;241m=\u001B[39m\u001B[38;5;124m'\u001B[39m\u001B[38;5;124mthird_party.py.keras.protobuf.VersionDef.min_consumer\u001B[39m\u001B[38;5;124m'\u001B[39m, index\u001B[38;5;241m=\u001B[39m\u001B[38;5;241m1\u001B[39m,\n\u001B[0;32m     45\u001B[0m       number\u001B[38;5;241m=\u001B[39m\u001B[38;5;241m2\u001B[39m, \u001B[38;5;28mtype\u001B[39m\u001B[38;5;241m=\u001B[39m\u001B[38;5;241m5\u001B[39m, cpp_type\u001B[38;5;241m=\u001B[39m\u001B[38;5;241m1\u001B[39m, label\u001B[38;5;241m=\u001B[39m\u001B[38;5;241m1\u001B[39m,\n\u001B[0;32m     46\u001B[0m       has_default_value\u001B[38;5;241m=\u001B[39m\u001B[38;5;28;01mFalse\u001B[39;00m, default_value\u001B[38;5;241m=\u001B[39m\u001B[38;5;241m0\u001B[39m,\n\u001B[0;32m     47\u001B[0m       message_type\u001B[38;5;241m=\u001B[39m\u001B[38;5;28;01mNone\u001B[39;00m, enum_type\u001B[38;5;241m=\u001B[39m\u001B[38;5;28;01mNone\u001B[39;00m, containing_type\u001B[38;5;241m=\u001B[39m\u001B[38;5;28;01mNone\u001B[39;00m,\n\u001B[0;32m     48\u001B[0m       is_extension\u001B[38;5;241m=\u001B[39m\u001B[38;5;28;01mFalse\u001B[39;00m, extension_scope\u001B[38;5;241m=\u001B[39m\u001B[38;5;28;01mNone\u001B[39;00m,\n\u001B[0;32m     49\u001B[0m       serialized_options\u001B[38;5;241m=\u001B[39m\u001B[38;5;28;01mNone\u001B[39;00m, file\u001B[38;5;241m=\u001B[39mDESCRIPTOR),\n\u001B[0;32m     50\u001B[0m     _descriptor\u001B[38;5;241m.\u001B[39mFieldDescriptor(\n\u001B[0;32m     51\u001B[0m       name\u001B[38;5;241m=\u001B[39m\u001B[38;5;124m'\u001B[39m\u001B[38;5;124mbad_consumers\u001B[39m\u001B[38;5;124m'\u001B[39m, full_name\u001B[38;5;241m=\u001B[39m\u001B[38;5;124m'\u001B[39m\u001B[38;5;124mthird_party.py.keras.protobuf.VersionDef.bad_consumers\u001B[39m\u001B[38;5;124m'\u001B[39m, index\u001B[38;5;241m=\u001B[39m\u001B[38;5;241m2\u001B[39m,\n\u001B[0;32m     52\u001B[0m       number\u001B[38;5;241m=\u001B[39m\u001B[38;5;241m3\u001B[39m, \u001B[38;5;28mtype\u001B[39m\u001B[38;5;241m=\u001B[39m\u001B[38;5;241m5\u001B[39m, cpp_type\u001B[38;5;241m=\u001B[39m\u001B[38;5;241m1\u001B[39m, label\u001B[38;5;241m=\u001B[39m\u001B[38;5;241m3\u001B[39m,\n\u001B[0;32m     53\u001B[0m       has_default_value\u001B[38;5;241m=\u001B[39m\u001B[38;5;28;01mFalse\u001B[39;00m, default_value\u001B[38;5;241m=\u001B[39m[],\n\u001B[0;32m     54\u001B[0m       message_type\u001B[38;5;241m=\u001B[39m\u001B[38;5;28;01mNone\u001B[39;00m, enum_type\u001B[38;5;241m=\u001B[39m\u001B[38;5;28;01mNone\u001B[39;00m, containing_type\u001B[38;5;241m=\u001B[39m\u001B[38;5;28;01mNone\u001B[39;00m,\n\u001B[0;32m     55\u001B[0m       is_extension\u001B[38;5;241m=\u001B[39m\u001B[38;5;28;01mFalse\u001B[39;00m, extension_scope\u001B[38;5;241m=\u001B[39m\u001B[38;5;28;01mNone\u001B[39;00m,\n\u001B[0;32m     56\u001B[0m       serialized_options\u001B[38;5;241m=\u001B[39m\u001B[38;5;28;01mNone\u001B[39;00m, file\u001B[38;5;241m=\u001B[39mDESCRIPTOR),\n\u001B[0;32m     57\u001B[0m   ],\n\u001B[0;32m     58\u001B[0m   extensions\u001B[38;5;241m=\u001B[39m[\n\u001B[0;32m     59\u001B[0m   ],\n\u001B[0;32m     60\u001B[0m   nested_types\u001B[38;5;241m=\u001B[39m[],\n\u001B[0;32m     61\u001B[0m   enum_types\u001B[38;5;241m=\u001B[39m[\n\u001B[0;32m     62\u001B[0m   ],\n\u001B[0;32m     63\u001B[0m   serialized_options\u001B[38;5;241m=\u001B[39m\u001B[38;5;28;01mNone\u001B[39;00m,\n\u001B[0;32m     64\u001B[0m   is_extendable\u001B[38;5;241m=\u001B[39m\u001B[38;5;28;01mFalse\u001B[39;00m,\n\u001B[0;32m     65\u001B[0m   syntax\u001B[38;5;241m=\u001B[39m\u001B[38;5;124m'\u001B[39m\u001B[38;5;124mproto3\u001B[39m\u001B[38;5;124m'\u001B[39m,\n\u001B[0;32m     66\u001B[0m   extension_ranges\u001B[38;5;241m=\u001B[39m[],\n\u001B[0;32m     67\u001B[0m   oneofs\u001B[38;5;241m=\u001B[39m[\n\u001B[0;32m     68\u001B[0m   ],\n\u001B[0;32m     69\u001B[0m   serialized_start\u001B[38;5;241m=\u001B[39m\u001B[38;5;241m64\u001B[39m,\n\u001B[0;32m     70\u001B[0m   serialized_end\u001B[38;5;241m=\u001B[39m\u001B[38;5;241m139\u001B[39m,\n\u001B[0;32m     71\u001B[0m )\n\u001B[0;32m     73\u001B[0m DESCRIPTOR\u001B[38;5;241m.\u001B[39mmessage_types_by_name[\u001B[38;5;124m'\u001B[39m\u001B[38;5;124mVersionDef\u001B[39m\u001B[38;5;124m'\u001B[39m] \u001B[38;5;241m=\u001B[39m _VERSIONDEF\n\u001B[0;32m     74\u001B[0m _sym_db\u001B[38;5;241m.\u001B[39mRegisterFileDescriptor(DESCRIPTOR)\n",
      "File \u001B[1;32m~\\anaconda3\\Lib\\site-packages\\google\\protobuf\\descriptor.py:561\u001B[0m, in \u001B[0;36mFieldDescriptor.__new__\u001B[1;34m(cls, name, full_name, index, number, type, cpp_type, label, default_value, message_type, enum_type, containing_type, is_extension, extension_scope, options, serialized_options, has_default_value, containing_oneof, json_name, file, create_key)\u001B[0m\n\u001B[0;32m    555\u001B[0m \u001B[38;5;28;01mdef\u001B[39;00m \u001B[38;5;21m__new__\u001B[39m(\u001B[38;5;28mcls\u001B[39m, name, full_name, index, number, \u001B[38;5;28mtype\u001B[39m, cpp_type, label,\n\u001B[0;32m    556\u001B[0m             default_value, message_type, enum_type, containing_type,\n\u001B[0;32m    557\u001B[0m             is_extension, extension_scope, options\u001B[38;5;241m=\u001B[39m\u001B[38;5;28;01mNone\u001B[39;00m,\n\u001B[0;32m    558\u001B[0m             serialized_options\u001B[38;5;241m=\u001B[39m\u001B[38;5;28;01mNone\u001B[39;00m,\n\u001B[0;32m    559\u001B[0m             has_default_value\u001B[38;5;241m=\u001B[39m\u001B[38;5;28;01mTrue\u001B[39;00m, containing_oneof\u001B[38;5;241m=\u001B[39m\u001B[38;5;28;01mNone\u001B[39;00m, json_name\u001B[38;5;241m=\u001B[39m\u001B[38;5;28;01mNone\u001B[39;00m,\n\u001B[0;32m    560\u001B[0m             file\u001B[38;5;241m=\u001B[39m\u001B[38;5;28;01mNone\u001B[39;00m, create_key\u001B[38;5;241m=\u001B[39m\u001B[38;5;28;01mNone\u001B[39;00m):  \u001B[38;5;66;03m# pylint: disable=redefined-builtin\u001B[39;00m\n\u001B[1;32m--> 561\u001B[0m   _message\u001B[38;5;241m.\u001B[39mMessage\u001B[38;5;241m.\u001B[39m_CheckCalledFromGeneratedFile()\n\u001B[0;32m    562\u001B[0m   \u001B[38;5;28;01mif\u001B[39;00m is_extension:\n\u001B[0;32m    563\u001B[0m     \u001B[38;5;28;01mreturn\u001B[39;00m _message\u001B[38;5;241m.\u001B[39mdefault_pool\u001B[38;5;241m.\u001B[39mFindExtensionByName(full_name)\n",
      "\u001B[1;31mTypeError\u001B[0m: Descriptors cannot not be created directly.\nIf this call came from a _pb2.py file, your generated code is out of date and must be regenerated with protoc >= 3.19.0.\nIf you cannot immediately regenerate your protos, some other possible workarounds are:\n 1. Downgrade the protobuf package to 3.20.x or lower.\n 2. Set PROTOCOL_BUFFERS_PYTHON_IMPLEMENTATION=python (but this will use pure-Python parsing and will be much slower).\n\nMore information: https://developers.google.com/protocol-buffers/docs/news/2022-05-06#python-updates"
     ]
    }
   ]
  },
  {
   "cell_type": "code",
   "source": [
    "check_env(env, warn=True)"
   ],
   "metadata": {
    "id": "Tang2aczNNUm",
    "colab": {
     "base_uri": "https://localhost:8080/",
     "height": 211
    },
    "outputId": "df35995c-865e-4f46-8795-85f244667f40",
    "ExecuteTime": {
     "end_time": "2023-11-24T17:41:06.002653700Z",
     "start_time": "2023-11-24T17:41:05.996137600Z"
    }
   },
   "execution_count": 5,
   "outputs": [
    {
     "ename": "NameError",
     "evalue": "name 'check_env' is not defined",
     "output_type": "error",
     "traceback": [
      "\u001B[1;31m---------------------------------------------------------------------------\u001B[0m",
      "\u001B[1;31mNameError\u001B[0m                                 Traceback (most recent call last)",
      "Cell \u001B[1;32mIn[5], line 1\u001B[0m\n\u001B[1;32m----> 1\u001B[0m check_env(env, warn\u001B[38;5;241m=\u001B[39m\u001B[38;5;28;01mTrue\u001B[39;00m)\n",
      "\u001B[1;31mNameError\u001B[0m: name 'check_env' is not defined"
     ]
    }
   ]
  },
  {
   "cell_type": "code",
   "source": [
    "env = GolfEnv()\n",
    "observation = env.reset()\n",
    "action=np.array([90,12])\n",
    "\n",
    "observation, reward, done, truncated, info = env.step(action)\n",
    "\n",
    "print(observation, reward)\n",
    "print(action)"
   ],
   "metadata": {
    "colab": {
     "base_uri": "https://localhost:8080/"
    },
    "id": "3jbC9L-abY5g",
    "outputId": "b0444790-1273-484b-c8e7-57ecbc6c6bca",
    "ExecuteTime": {
     "end_time": "2023-11-24T17:50:14.965147400Z",
     "start_time": "2023-11-24T17:50:14.960254900Z"
    }
   },
   "execution_count": 15,
   "outputs": [
    {
     "name": "stdout",
     "output_type": "stream",
     "text": [
      "{'x': 50, 'y': 55} 10\n",
      "[90 12]\n"
     ]
    }
   ]
  },
  {
   "cell_type": "code",
   "execution_count": 25,
   "outputs": [
    {
     "name": "stdout",
     "output_type": "stream",
     "text": [
      "Point is inside.\n",
      "{'x': 50, 'y': 55}\n"
     ]
    }
   ],
   "source": [
    "env = GolfEnv()\n",
    "observation = env.reset()\n",
    "action=np.array([90,12])\n",
    "# setting up the environment and making the first move\n",
    "\n",
    "observation, reward, done, truncated, info = env.step(action) # executing the first move\n",
    "\n",
    "polygon = [  Point( 0, 0), Point( 0, 200 ), Point( 200, 300 ), Point( 200, 0 ) ] # boundaries for the shape of the golf course\n",
    "\n",
    "p = Point(observation['x'], observation['y']) # point to check if it's in the polygon or not\n",
    "n = 4 # number of sides\n",
    "\n",
    "# Function call\n",
    "if checkInside(polygon, n, p):\n",
    "    print(\"Point is inside.\")\n",
    "    print(observation)\n",
    "else:\n",
    "    print(\"Point is outside.\")\n",
    "    print(observation)"
   ],
   "metadata": {
    "collapsed": false,
    "ExecuteTime": {
     "end_time": "2023-11-24T18:07:43.840610300Z",
     "start_time": "2023-11-24T18:07:43.837936700Z"
    }
   }
  },
  {
   "cell_type": "code",
   "execution_count": null,
   "outputs": [],
   "source": [],
   "metadata": {
    "collapsed": false
   }
  }
 ]
}
